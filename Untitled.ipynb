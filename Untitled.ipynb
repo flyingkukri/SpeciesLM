{
 "cells": [
  {
   "cell_type": "code",
   "execution_count": 2,
   "id": "6333cab9-8542-4333-bb85-62cd35b2b846",
   "metadata": {
    "tags": []
   },
   "outputs": [],
   "source": [
    "import torch"
   ]
  },
  {
   "cell_type": "code",
   "execution_count": 4,
   "id": "98a25175-b552-44eb-bdd3-f5c5d4d4e111",
   "metadata": {
    "tags": []
   },
   "outputs": [],
   "source": [
    "project_path = \"/s/project/semi_supervised_multispecies/Zenodo/zenodo/\"\n",
    "path = project_path+'outputs/bertadn_origtest_convolved_prb_candida_glabrata_scer_downstream_fixedlen_512_withstop/'\n",
    "targets = torch.load(path + \"masked_targets.pt\")"
   ]
  },
  {
   "cell_type": "code",
   "execution_count": 6,
   "id": "5e69d5b9-3626-4ff2-83f0-194b5d029ce8",
   "metadata": {
    "tags": []
   },
   "outputs": [
    {
     "data": {
      "text/plain": [
       "tensor([3, 2, 0, 0, 2, 0, 2, 1, 1, 1, 3, 1, 2, 2, 3, 0, 2, 1, 0, 3, 0, 0, 1, 0,\n",
       "        3, 3, 3, 3, 3, 0, 0, 3, 3, 0, 3, 3, 0, 1, 2, 0, 1, 3, 2, 3, 3, 3, 3, 3,\n",
       "        3, 3, 3, 0, 3, 3, 1, 0, 3, 3, 0, 3, 2, 3, 0, 2, 0, 2, 0, 3, 0, 0, 3, 3,\n",
       "        0, 0, 0, 3, 2, 3, 3, 0, 3, 0, 2, 0, 3, 2, 1, 3, 1, 3, 0, 3, 0, 1, 3, 1,\n",
       "        0, 0, 0, 1])"
      ]
     },
     "execution_count": 6,
     "metadata": {},
     "output_type": "execute_result"
    }
   ],
   "source": [
    "targets[:100]"
   ]
  },
  {
   "cell_type": "code",
   "execution_count": null,
   "id": "97d59b47-962a-48d1-975a-f22aba15f924",
   "metadata": {},
   "outputs": [],
   "source": []
  }
 ],
 "metadata": {
  "kernelspec": {
   "display_name": "Python [conda env:anaconda-m2-mixer]",
   "language": "python",
   "name": "conda-env-anaconda-m2-mixer-py"
  },
  "language_info": {
   "codemirror_mode": {
    "name": "ipython",
    "version": 3
   },
   "file_extension": ".py",
   "mimetype": "text/x-python",
   "name": "python",
   "nbconvert_exporter": "python",
   "pygments_lexer": "ipython3",
   "version": "3.9.18"
  }
 },
 "nbformat": 4,
 "nbformat_minor": 5
}
