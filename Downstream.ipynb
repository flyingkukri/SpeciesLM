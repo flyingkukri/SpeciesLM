{
 "cells": [
  {
   "cell_type": "code",
   "execution_count": 2,
   "id": "9ef08229-5db6-424e-8cc6-54bf176a8dc0",
   "metadata": {
    "tags": []
   },
   "outputs": [],
   "source": [
    "import math\n",
    "import itertools\n",
    "import collections\n",
    "import re\n",
    "import os\n",
    "\n",
    "import tqdm\n",
    "import numpy as np\n",
    "import pandas as pd\n",
    "import scipy\n",
    "\n",
    "import statsmodels\n",
    "import statsmodels.api as sm\n",
    "import statsmodels.formula.api as smf\n",
    "\n",
    "import sklearn\n",
    "from sklearn import ensemble\n",
    "from sklearn import pipeline\n",
    "from sklearn.metrics import accuracy_score, roc_curve, roc_auc_score, precision_recall_curve, average_precision_score, f1_score\n",
    "from sklearn.model_selection import cross_val_score, cross_validate, cross_val_predict\n",
    "from sklearn.cross_decomposition import PLSRegression\n",
    "from sklearn.metrics.pairwise import cosine_similarity\n",
    "import patsy\n",
    "\n",
    "import matplotlib.pyplot as plt\n",
    "import matplotlib as mpl\n",
    "from matplotlib import cm\n",
    "from matplotlib.colors import ListedColormap, LinearSegmentedColormap\n",
    "import seaborn as sns\n",
    "#import statannot\n",
    "import statannotations\n",
    "from statannotations.Annotator import Annotator\n",
    "from statannotations.stats.StatTest import StatTest\n",
    "import plotnine as p9\n",
    "\n",
    "import Bio.motifs as motifs"
   ]
  },
  {
   "cell_type": "code",
   "execution_count": 3,
   "id": "9a77ab9b-1af3-41f7-8b6a-1c568c3e09d7",
   "metadata": {
    "tags": []
   },
   "outputs": [
    {
     "name": "stdout",
     "output_type": "stream",
     "text": [
      "/data/ceph/hdd/project/node_09/semi_supervised_multispecies/monarch\n"
     ]
    }
   ],
   "source": [
    "# paths \n",
    "import os\n",
    "\n",
    "# To change the directory\n",
    "#os.chdir('/s/project/semi_supervised_multispecies/Zenodo/zenodo/')\n",
    "os.chdir(\"/data/nasif12/home_if12/huan/monarch\")\n",
    "# To check the current working directory\n",
    "print(os.getcwd())\n",
    "\n",
    "\n",
    "\n",
    "project_path = \"./embeddings_outputs/.\"\n",
    "#project_path = \".\""
   ]
  },
  {
   "cell_type": "markdown",
   "id": "8653a513-c32b-4355-8acb-ccbdb3fd7738",
   "metadata": {},
   "source": [
    "# Utility Functions"
   ]
  },
  {
   "cell_type": "code",
   "execution_count": 4,
   "id": "c5ce82f2-6fd9-4deb-b0a6-f850efafe743",
   "metadata": {
    "tags": []
   },
   "outputs": [],
   "source": [
    "class Kmerizer:\n",
    "    \n",
    "    def __init__(self, k, overlap=True, log=False, divide=False, leave_one_out=False):\n",
    "        self.k = k\n",
    "        if leave_one_out:\n",
    "            self.kmers = {\"\".join(x):i for i,x in zip(range(4**k), [x for x in itertools.product(\"ACGT\",repeat=k)][:-1])}\n",
    "        else:\n",
    "            self.kmers = {\"\".join(x):i for i,x in zip(range(4**k), itertools.product(\"ACGT\",repeat=k))}\n",
    "        self.log = log\n",
    "        self.divide = divide\n",
    "        self.overlap = overlap\n",
    "        \n",
    "    def kmerize(self, seq):\n",
    "        counts = np.zeros(4**self.k)\n",
    "        i = 0\n",
    "        jump = 1 if self.overlap else self.k\n",
    "        while i < len(seq) - self.k + 1: \n",
    "            kmer = seq[i:i+self.k]\n",
    "            if \"N\" in kmer:\n",
    "                i += jump\n",
    "                continue\n",
    "            counts[self.kmers[kmer]] += 1\n",
    "            i += jump\n",
    "        if self.divide:\n",
    "            counts = counts/len(seq)\n",
    "        if self.log:\n",
    "            counts = np.log(counts + 1)\n",
    "        return counts\n",
    "    \n",
    "    def tokenize(self, seq, jump=False):\n",
    "        kmers = []\n",
    "        i = 0\n",
    "        while i < len(seq) - self.k + 1: \n",
    "            kmer = seq[i:i+self.k]\n",
    "            kmers.append(kmer)\n",
    "            if jump:\n",
    "                i += self.k\n",
    "            else:\n",
    "                i += 1\n",
    "        return kmers\n",
    "    \n",
    "kmerizer2 = Kmerizer(k=2)\n",
    "kmerizer3 = Kmerizer(k=3)\n",
    "kmerizer4 = Kmerizer(k=4)\n",
    "kmerizer5 = Kmerizer(k=5)\n",
    "kmerizer6 = Kmerizer(k=6)\n",
    "kmerizer7 = Kmerizer(k=7)\n",
    "\n",
    "codonmerizer = Kmerizer(k=3,overlap=False, log=True, divide=True)"
   ]
  },
  {
   "cell_type": "code",
   "execution_count": 5,
   "id": "4a9f9e2c-9054-491d-ab03-a1dc49d8ce56",
   "metadata": {
    "tags": []
   },
   "outputs": [],
   "source": [
    "def pearson_scorer(estimator, X, y):\n",
    "    y_pred = estimator.predict(X)\n",
    "    if len(y_pred.shape) == 2:\n",
    "        y_pred = y_pred.reshape(-1)\n",
    "    return scipy.stats.pearsonr(y, y_pred)[0]\n",
    "\n",
    "def pearson_r2(estimator, X, y):\n",
    "    y_pred = estimator.predict(X)\n",
    "    #print(estimator[1].alpha_)\n",
    "    if len(y_pred.shape) == 2:\n",
    "        y_pred = y_pred.reshape(-1)\n",
    "    return scipy.stats.pearsonr(y, y_pred)[0] ** 2\n",
    "\n",
    "def pearson_r2_metric(y_true, y_pred):\n",
    "    return scipy.stats.pearsonr(y_true, y_pred)[0] ** 2\n",
    "\n",
    "def spearman_metric(y_true, y_pred):\n",
    "    return scipy.stats.spearmanr(y_true, y_pred)[0]"
   ]
  },
  {
   "cell_type": "code",
   "execution_count": 6,
   "id": "ca1d9a75-0692-42ab-a2c2-9101022983f3",
   "metadata": {
    "tags": []
   },
   "outputs": [],
   "source": [
    "import os\n",
    "def extract_model_and_dataset_from_directory(dir_path):\n",
    "    dataset_and_model_map = dict()\n",
    "    for folder in os.listdir(dir_path):\n",
    "        try:\n",
    "            model_type, dataset = folder.split('-')\n",
    "        except:\n",
    "            continue\n",
    "        if not dataset in dataset_and_model_map.keys():\n",
    "            dataset_and_model_map[dataset] = [folder]\n",
    "        else:\n",
    "            dataset_and_model_map[dataset].append(folder)\n",
    "    return dataset_and_model_map"
   ]
  },
  {
   "cell_type": "code",
   "execution_count": 7,
   "id": "bef7f77e-2065-4103-b0e9-33662f1de581",
   "metadata": {
    "tags": []
   },
   "outputs": [],
   "source": [
    "dataset_and_model_map = extract_model_and_dataset_from_directory(\"./embeddings_outputs\")"
   ]
  },
  {
   "cell_type": "code",
   "execution_count": 8,
   "id": "5d46665d-532e-498e-8bd6-333dafb9112a",
   "metadata": {
    "tags": []
   },
   "outputs": [
    {
     "data": {
      "text/plain": [
       "{'pombe': ['m2_species100k-pombe',\n",
       "  'm2_agnostic-pombe',\n",
       "  'm2_species200k-pombe'],\n",
       " 'scer': ['vanilla_agnostic-scer',\n",
       "  'm2_agnostic-scer',\n",
       "  'm2_species100k-scer',\n",
       "  'm2_species200k-scer']}"
      ]
     },
     "execution_count": 8,
     "metadata": {},
     "output_type": "execute_result"
    }
   ],
   "source": [
    "dataset_and_model_map"
   ]
  },
  {
   "cell_type": "code",
   "execution_count": 9,
   "id": "d6ccf746-3073-4d22-a811-ef615e93bb70",
   "metadata": {
    "tags": []
   },
   "outputs": [],
   "source": [
    "def get_model_name(path):\n",
    "    model_name  = path.split(\"-\")[0]\n",
    "    print(model_name)\n",
    "    return (model_name)"
   ]
  },
  {
   "cell_type": "code",
   "execution_count": 10,
   "id": "3c405944-7331-4398-b525-0dcce8f974e4",
   "metadata": {
    "tags": []
   },
   "outputs": [
    {
     "name": "stdout",
     "output_type": "stream",
     "text": [
      "{'pombe': ['m2_species100k-pombe', 'm2_agnostic-pombe', 'm2_species200k-pombe'],\n",
      " 'scer': ['vanilla_agnostic-scer',\n",
      "          'm2_agnostic-scer',\n",
      "          'm2_species100k-scer',\n",
      "          'm2_species200k-scer']}\n"
     ]
    }
   ],
   "source": [
    "import pprint\n",
    "pp = pprint.PrettyPrinter(depth=4)\n",
    "pp.pprint(dataset_and_model_map)"
   ]
  },
  {
   "cell_type": "code",
   "execution_count": 30,
   "id": "6fb4106b-f47c-4e14-853f-f4ccb76e8afc",
   "metadata": {
    "tags": []
   },
   "outputs": [
    {
     "name": "stdout",
     "output_type": "stream",
     "text": [
      "m2_species100k\n"
     ]
    },
    {
     "data": {
      "text/plain": [
       "'m2_species100k'"
      ]
     },
     "execution_count": 30,
     "metadata": {},
     "output_type": "execute_result"
    }
   ],
   "source": [
    "get_model_name('m2_species100k-pombe')"
   ]
  },
  {
   "cell_type": "markdown",
   "id": "79af4b26-bd54-4b81-95d4-8f9a8bbe355d",
   "metadata": {},
   "source": [
    "# S. cerevisiae Half Life"
   ]
  },
  {
   "cell_type": "markdown",
   "id": "8d7e7884-5027-4126-ac7d-05d120739b54",
   "metadata": {},
   "source": [
    "## Prepare data"
   ]
  },
  {
   "cell_type": "code",
   "execution_count": 11,
   "id": "33d31d49-669e-42f2-b3c8-eb4bf8d4062b",
   "metadata": {
    "tags": []
   },
   "outputs": [
    {
     "name": "stdout",
     "output_type": "stream",
     "text": [
      "vanilla_agnostic\n",
      "m2_agnostic\n",
      "m2_species100k\n",
      "m2_species200k\n",
      "2-mer counts\n",
      "3-mer counts\n",
      "4-mer counts\n",
      "5-mer counts\n",
      "Cheng Features\n",
      "vanilla_agnostic\n",
      "m2_agnostic\n",
      "m2_species100k\n",
      "m2_species200k\n"
     ]
    },
    {
     "data": {
      "text/html": [
       "<div>\n",
       "<style scoped>\n",
       "    .dataframe tbody tr th:only-of-type {\n",
       "        vertical-align: middle;\n",
       "    }\n",
       "\n",
       "    .dataframe tbody tr th {\n",
       "        vertical-align: top;\n",
       "    }\n",
       "\n",
       "    .dataframe thead th {\n",
       "        text-align: right;\n",
       "    }\n",
       "</style>\n",
       "<table border=\"1\" class=\"dataframe\">\n",
       "  <thead>\n",
       "    <tr style=\"text-align: right;\">\n",
       "      <th></th>\n",
       "      <th>r2</th>\n",
       "    </tr>\n",
       "    <tr>\n",
       "      <th>model</th>\n",
       "      <th></th>\n",
       "    </tr>\n",
       "  </thead>\n",
       "  <tbody>\n",
       "    <tr>\n",
       "      <th>2-mer counts</th>\n",
       "      <td>0.577900</td>\n",
       "    </tr>\n",
       "    <tr>\n",
       "      <th>3-mer counts</th>\n",
       "      <td>0.580361</td>\n",
       "    </tr>\n",
       "    <tr>\n",
       "      <th>4-mer counts</th>\n",
       "      <td>0.569335</td>\n",
       "    </tr>\n",
       "    <tr>\n",
       "      <th>5-mer counts</th>\n",
       "      <td>0.532131</td>\n",
       "    </tr>\n",
       "    <tr>\n",
       "      <th>Cheng Features</th>\n",
       "      <td>0.586421</td>\n",
       "    </tr>\n",
       "    <tr>\n",
       "      <th>m2_agnostic</th>\n",
       "      <td>0.582229</td>\n",
       "    </tr>\n",
       "    <tr>\n",
       "      <th>m2_species100k</th>\n",
       "      <td>0.585568</td>\n",
       "    </tr>\n",
       "    <tr>\n",
       "      <th>m2_species200k</th>\n",
       "      <td>0.577675</td>\n",
       "    </tr>\n",
       "    <tr>\n",
       "      <th>vanilla_agnostic</th>\n",
       "      <td>0.578150</td>\n",
       "    </tr>\n",
       "  </tbody>\n",
       "</table>\n",
       "</div>"
      ],
      "text/plain": [
       "                        r2\n",
       "model                     \n",
       "2-mer counts      0.577900\n",
       "3-mer counts      0.580361\n",
       "4-mer counts      0.569335\n",
       "5-mer counts      0.532131\n",
       "Cheng Features    0.586421\n",
       "m2_agnostic       0.582229\n",
       "m2_species100k    0.585568\n",
       "m2_species200k    0.577675\n",
       "vanilla_agnostic  0.578150"
      ]
     },
     "metadata": {},
     "output_type": "display_data"
    }
   ],
   "source": [
    "def scer_half_life(path_list):\n",
    "    #Data Prep\n",
    "    halflife_df = pd.read_csv(\"./data/Downstream_Targets/Scer_half_life.csv\")\n",
    "    codon_vars = ['TTC','TTA', 'TTG', 'TCT', 'TCC', 'TCA', 'TCG', 'TAT', 'TAC', 'TGT', 'TGC',\n",
    "       'TGG', 'CTT', 'CTC', 'CTA', 'CTG', 'CCT', 'CCC', 'CCA', 'CCG', 'CAT',\n",
    "       'CAC', 'CAA', 'CAG', 'CGT', 'CGC', 'CGA', 'CGG', 'ATT', 'ATC', 'ATA',\n",
    "       'ATG', 'ACT', 'ACC', 'ACA', 'ACG', 'AAT', 'AAC', 'AAA', 'AAG', 'AGT',\n",
    "       'AGC', 'AGA', 'AGG', 'GTT', 'GTC', 'GTA', 'GTG', 'GCT', 'GCC', 'GCA',\n",
    "       'GCG', 'GAT', 'GAC', 'GAA', 'GAG', 'GGT', 'GGC', 'GGA', 'GGG', 'TTT']\n",
    "    signif_vars = [\"UTR5_length_log\",\"GC_content_UTR5\",\"CDS_deltaG\",\"num_uAUG\",\"UTR3_length_log\",\"TGTAAATA\",\"TGCAT\",\"ATATTC\",\"TTTTTTA\"]\n",
    "    # recompute GC content\n",
    "    halflife_df['GC_content_UTR5'] = (halflife_df['UTR5_seq'].str.count('G') + halflife_df['UTR5_seq'].str.count('C'))/halflife_df['UTR5_seq'].str.len()\n",
    "    halflife_df['GC_content_UTR3'] = (halflife_df['UTR3_seq'].str.count('G') + halflife_df['UTR3_seq'].str.count('C'))/halflife_df['UTR3_seq'].str.len()\n",
    "    halflife_df['GC_content_CDS'] = (halflife_df['CDS_seq'].str.count('G') + halflife_df['CDS_seq'].str.count('C'))/halflife_df['CDS_seq'].str.len()\n",
    "    # make uAUG an indicator\n",
    "    halflife_df['num_uAUG'] = halflife_df['num_uAUG'] > 0\n",
    "    # make codons into ratios\n",
    "    for codon in codon_vars[:-1]:\n",
    "        halflife_df[codon] = halflife_df[codon]/halflife_df['CDS_length']\n",
    "    # finally log the length\n",
    "    halflife_df['UTR5_length_log'] = np.log2(halflife_df['UTR5_length'])\n",
    "    halflife_df['UTR3_length_log'] = np.log2(halflife_df['UTR3_length'])\n",
    "    halflife_df['CDS_length_log'] = np.log2(halflife_df['CDS_length'])\n",
    "    halflife_df[\"log_hl\"] = np.log2(halflife_df[\"hlt.wt\"])\n",
    "    three_sequences = pd.read_parquet(\"./data/Sequences/Annotation/Sequences/saccharomyces_cerevisiae/saccharomyces_cerevisiae_three_prime.parquet\")\n",
    "    \n",
    "    scer_emb_dict = {} \n",
    "    for path in path_list:\n",
    "        tmp = np.load(f\"{project_path}/{path}/embeddings.npy\")            \n",
    "        scer_emb_dict[get_model_name(path)] = [tmp[i] for i in range(tmp.shape[0])]\n",
    "    \n",
    "    for model_name, emb in scer_emb_dict.items():\n",
    "        three_sequences[model_name] = emb\n",
    "    three_sequences.drop_duplicates(subset=['gene_id'], keep='first', inplace=True)\n",
    "\n",
    "    halflife_df = halflife_df.merge(three_sequences.rename(columns={\"gene_id\":\"genename\"}),on=\"genename\")\n",
    "   \n",
    "    y_obs = np.array(halflife_df[\"log_hl\"])\n",
    "\n",
    "    X_base = np.array(halflife_df[codon_vars[:-1] + signif_vars[:-4]])\n",
    "\n",
    "    X_jun = np.array(halflife_df[codon_vars[:-1] + signif_vars])\n",
    "    \n",
    "    X_models = {}\n",
    "    for model in scer_emb_dict.keys():\n",
    "        X_models[model] = np.concatenate([X_base, np.stack(halflife_df[model])],axis=1)\n",
    "        \n",
    "    X_gc = np.array(halflife_df[codon_vars[:-1] + signif_vars[:-4] + ['GC_content_UTR3']])\n",
    "    X_2mer = np.concatenate([X_base, np.stack(halflife_df['UTR3_seq'].apply(lambda x: kmerizer2.kmerize(x)))],axis=1)\n",
    "    X_3mer = np.concatenate([X_base, np.stack(halflife_df['UTR3_seq'].apply(lambda x: kmerizer3.kmerize(x)))],axis=1)\n",
    "    X_4mer = np.concatenate([X_base, np.stack(halflife_df['UTR3_seq'].apply(lambda x: kmerizer4.kmerize(x)))],axis=1)\n",
    "    X_5mer = np.concatenate([X_base, np.stack(halflife_df['UTR3_seq'].apply(lambda x: kmerizer5.kmerize(x)))],axis=1)\n",
    "    X_6mer = np.concatenate([X_base, np.stack(halflife_df['UTR3_seq'].apply(lambda x: kmerizer6.kmerize(x)))],axis=1)\n",
    "    \n",
    "    #Predict Half Life\n",
    "    \n",
    "    data_matrices = {\n",
    "                 \"2-mer counts\":X_2mer, \n",
    "                 \"3-mer counts\":X_3mer, \n",
    "                 \"4-mer counts\":X_4mer,\n",
    "                 \"5-mer counts\":X_5mer, \n",
    "                 \"Cheng Features\":X_jun}\n",
    "    data_matrices.update(X_models)\n",
    "\n",
    "    rows = []\n",
    "    test_predictions = []\n",
    "    total_len = X_base.shape[0]\n",
    "    n_splits = 10\n",
    "\n",
    "    kfold = sklearn.model_selection.KFold(n_splits=n_splits, shuffle=True, random_state=42)\n",
    "\n",
    "    for key in data_matrices:\n",
    "        print(key)\n",
    "        y = y_obs\n",
    "        X = data_matrices[key]\n",
    "\n",
    "        y_pred_list = []\n",
    "        y_true_list = []\n",
    "        for i, (train_index, test_index) in enumerate(kfold.split(X, y)):\n",
    "            pipe = pipeline.make_pipeline(sklearn.preprocessing.StandardScaler(), sklearn.linear_model.RidgeCV(cv=5, alphas=[0.1, 1, 10, 100, 1000,10000]))\n",
    "            X_train = X[train_index]\n",
    "            y_train = y[train_index]\n",
    "            X_test = X[test_index]\n",
    "            y_test = y[test_index]\n",
    "            pipe.fit(X_train,y_train)\n",
    "            y_pred = pipe.predict(X_test)\n",
    "            r2_test = pearson_r2_metric(y_test, y_pred)\n",
    "            # save results\n",
    "            y_pred_list.append(y_pred)\n",
    "            y_true_list.append(y_test)\n",
    "            rows.append({\"model\":key, \"r2\":r2_test})\n",
    "        test_predictions.append(pd.DataFrame({\"model\":key, \n",
    "                                 \"pred\": np.concatenate(y_pred_list), \n",
    "                                 \"true\": np.concatenate(y_true_list)}))\n",
    "\n",
    "    metrics_scer = pd.DataFrame(rows)\n",
    "    pred_scer = pd.concat(test_predictions)\n",
    "    pred_scer[\"residual\"] = (pred_scer[\"true\"] - pred_scer[\"pred\"])**2\n",
    "    display(metrics_scer.groupby('model').median())\n",
    "\n",
    "    return metrics_scer, pred_scer\n",
    "    \n",
    "metrics_scer, pred_scer = scer_half_life(dataset_and_model_map[\"scer\"])"
   ]
  },
  {
   "cell_type": "code",
   "execution_count": 35,
   "id": "5ac0dcc0-2e16-48bc-885e-3a1913fe97e3",
   "metadata": {
    "scrolled": true,
    "tags": []
   },
   "outputs": [
    {
     "data": {
      "text/html": [
       "<div>\n",
       "<style scoped>\n",
       "    .dataframe tbody tr th:only-of-type {\n",
       "        vertical-align: middle;\n",
       "    }\n",
       "\n",
       "    .dataframe tbody tr th {\n",
       "        vertical-align: top;\n",
       "    }\n",
       "\n",
       "    .dataframe thead th {\n",
       "        text-align: right;\n",
       "    }\n",
       "</style>\n",
       "<table border=\"1\" class=\"dataframe\">\n",
       "  <thead>\n",
       "    <tr style=\"text-align: right;\">\n",
       "      <th></th>\n",
       "      <th>r2</th>\n",
       "    </tr>\n",
       "    <tr>\n",
       "      <th>model</th>\n",
       "      <th></th>\n",
       "    </tr>\n",
       "  </thead>\n",
       "  <tbody>\n",
       "    <tr>\n",
       "      <th>2-mer counts</th>\n",
       "      <td>0.577900</td>\n",
       "    </tr>\n",
       "    <tr>\n",
       "      <th>3-mer counts</th>\n",
       "      <td>0.580361</td>\n",
       "    </tr>\n",
       "    <tr>\n",
       "      <th>4-mer counts</th>\n",
       "      <td>0.569335</td>\n",
       "    </tr>\n",
       "    <tr>\n",
       "      <th>5-mer counts</th>\n",
       "      <td>0.532131</td>\n",
       "    </tr>\n",
       "    <tr>\n",
       "      <th>Cheng Features</th>\n",
       "      <td>0.586421</td>\n",
       "    </tr>\n",
       "    <tr>\n",
       "      <th>m2_agnostic</th>\n",
       "      <td>0.588919</td>\n",
       "    </tr>\n",
       "    <tr>\n",
       "      <th>m2_species100k</th>\n",
       "      <td>0.585738</td>\n",
       "    </tr>\n",
       "    <tr>\n",
       "      <th>m2_species200k</th>\n",
       "      <td>0.585738</td>\n",
       "    </tr>\n",
       "    <tr>\n",
       "      <th>vanilla_agnostic</th>\n",
       "      <td>0.581174</td>\n",
       "    </tr>\n",
       "  </tbody>\n",
       "</table>\n",
       "</div>"
      ],
      "text/plain": [
       "                        r2\n",
       "model                     \n",
       "2-mer counts      0.577900\n",
       "3-mer counts      0.580361\n",
       "4-mer counts      0.569335\n",
       "5-mer counts      0.532131\n",
       "Cheng Features    0.586421\n",
       "m2_agnostic       0.588919\n",
       "m2_species100k    0.585738\n",
       "m2_species200k    0.585738\n",
       "vanilla_agnostic  0.581174"
      ]
     },
     "metadata": {},
     "output_type": "display_data"
    },
    {
     "ename": "AttributeError",
     "evalue": "module 'pandas' has no attribute 'save'",
     "output_type": "error",
     "traceback": [
      "\u001b[0;31m---------------------------------------------------------------------------\u001b[0m",
      "\u001b[0;31mAttributeError\u001b[0m                            Traceback (most recent call last)",
      "Cell \u001b[0;32mIn[35], line 2\u001b[0m\n\u001b[1;32m      1\u001b[0m display(metrics_scer\u001b[38;5;241m.\u001b[39mgroupby(\u001b[38;5;124m'\u001b[39m\u001b[38;5;124mmodel\u001b[39m\u001b[38;5;124m'\u001b[39m)\u001b[38;5;241m.\u001b[39mmedian())\n\u001b[0;32m----> 2\u001b[0m \u001b[43mpd\u001b[49m\u001b[38;5;241;43m.\u001b[39;49m\u001b[43msave\u001b[49m(pred_scer, \u001b[38;5;124m\"\u001b[39m\u001b[38;5;124mpred_scer.pd\u001b[39m\u001b[38;5;124m\"\u001b[39m)\n\u001b[1;32m      3\u001b[0m \u001b[38;5;66;03m#print(scipy.stats.wilcoxon(pred_scer.query('model == \"Aware:candida glabrata\"')[\"residual\"], pred_scer.query('model == \"Agnostic\"')[\"residual\"]))\u001b[39;00m\n\u001b[1;32m      4\u001b[0m \u001b[38;5;66;03m#print(scipy.stats.wilcoxon(pred_scer.query('model == \"Aware:candida glabrata\"')[\"residual\"], pred_scer.query('model == \"Cheng Features\"')[\"residual\"]))\u001b[39;00m\n",
      "File \u001b[0;32m/opt/modules/i12g/anaconda/envs/m2-plot/lib/python3.10/site-packages/pandas/__init__.py:264\u001b[0m, in \u001b[0;36m__getattr__\u001b[0;34m(name)\u001b[0m\n\u001b[1;32m    260\u001b[0m     \u001b[38;5;28;01mfrom\u001b[39;00m \u001b[38;5;21;01mpandas\u001b[39;00m\u001b[38;5;21;01m.\u001b[39;00m\u001b[38;5;21;01mcore\u001b[39;00m\u001b[38;5;21;01m.\u001b[39;00m\u001b[38;5;21;01marrays\u001b[39;00m\u001b[38;5;21;01m.\u001b[39;00m\u001b[38;5;21;01msparse\u001b[39;00m \u001b[38;5;28;01mimport\u001b[39;00m SparseArray \u001b[38;5;28;01mas\u001b[39;00m _SparseArray\n\u001b[1;32m    262\u001b[0m     \u001b[38;5;28;01mreturn\u001b[39;00m _SparseArray\n\u001b[0;32m--> 264\u001b[0m \u001b[38;5;28;01mraise\u001b[39;00m \u001b[38;5;167;01mAttributeError\u001b[39;00m(\u001b[38;5;124mf\u001b[39m\u001b[38;5;124m\"\u001b[39m\u001b[38;5;124mmodule \u001b[39m\u001b[38;5;124m'\u001b[39m\u001b[38;5;124mpandas\u001b[39m\u001b[38;5;124m'\u001b[39m\u001b[38;5;124m has no attribute \u001b[39m\u001b[38;5;124m'\u001b[39m\u001b[38;5;132;01m{\u001b[39;00mname\u001b[38;5;132;01m}\u001b[39;00m\u001b[38;5;124m'\u001b[39m\u001b[38;5;124m\"\u001b[39m)\n",
      "\u001b[0;31mAttributeError\u001b[0m: module 'pandas' has no attribute 'save'"
     ]
    }
   ],
   "source": [
    "display(metrics_scer.groupby('model').median())\n",
    "pred_scer.to_csv(\"\n",
    "#print(scipy.stats.wilcoxon(pred_scer.query('model == \"Aware:candida glabrata\"')[\"residual\"], pred_scer.query('model == \"Agnostic\"')[\"residual\"]))\n",
    "#print(scipy.stats.wilcoxon(pred_scer.query('model == \"Aware:candida glabrata\"')[\"residual\"], pred_scer.query('model == \"Cheng Features\"')[\"residual\"]))"
   ]
  },
  {
   "cell_type": "markdown",
   "id": "5d8bb887-5d60-47ce-8118-932bc89a143c",
   "metadata": {},
   "source": [
    "# S. pombe Half Life"
   ]
  },
  {
   "cell_type": "code",
   "execution_count": 15,
   "id": "0536546d-9ecc-4cd8-b554-4391f33f54ad",
   "metadata": {
    "tags": []
   },
   "outputs": [],
   "source": [
    "def pombe_half_life(path_list):\n",
    "    #Prepare data\n",
    "    halflife_pombe_df = pd.read_csv(\"./data/Downstream_Targets/Pombe_half_life.csv\")\n",
    "    codon_vars_pombe = ['TTC','TTA', 'TTG', 'TCT', 'TCC', 'TCA', 'TCG', 'TAT', 'TAC', 'TGT', 'TGC',\n",
    "       'TGG', 'CTT', 'CTC', 'CTA', 'CTG', 'CCT', 'CCC', 'CCA', 'CCG', 'CAT',\n",
    "       'CAC', 'CAA', 'CAG', 'CGT', 'CGC', 'CGA', 'CGG', 'ATT', 'ATC', 'ATA',\n",
    "       'ATG', 'ACT', 'ACC', 'ACA', 'ACG', 'AAT', 'AAC', 'AAA', 'AAG', 'AGT',\n",
    "       'AGC', 'AGA', 'AGG', 'GTT', 'GTC', 'GTA', 'GTG', 'GCT', 'GCC', 'GCA',\n",
    "       'GCG', 'GAT', 'GAC', 'GAA', 'GAG', 'GGT', 'GGC', 'GGA', 'GGG', 'TTT']\n",
    "\n",
    "    signif_vars_pombe = ['UTR3_length_log','UTR5_length_log','CDS_length_log',\n",
    "               \"stopPlus1\",\n",
    "               \"num_uAUG\",\"CAACCA\",\"ACCAAC\",\n",
    "               \"GC_content_UTR5\",\"UTR5_deltaG\",\"CDS_deltaG\",\"GC_content_CDS\",\n",
    "               \"UTR3_deltaG\",\"GC_content_UTR3\",\"TATTTAT\",\"TTAATGA\",\"ACTAAT\"]\n",
    "    # recompute GC content\n",
    "    halflife_pombe_df['GC_content_UTR5'] = (halflife_pombe_df['UTR5_seq'].str.count('G') + halflife_pombe_df['UTR5_seq'].str.count('C'))/halflife_pombe_df['UTR5_seq'].str.len()\n",
    "    halflife_pombe_df['GC_content_UTR3'] = (halflife_pombe_df['UTR3_seq'].str.count('G') + halflife_pombe_df['UTR3_seq'].str.count('C'))/halflife_pombe_df['UTR3_seq'].str.len()\n",
    "    #halflife_pombe_df['GC_content_CDS'] = (halflife_pombe_df['CDS_seq'].str.count('G') + halflife_pombe_df['CDS_seq'].str.count('C'))/halflife_pombe_df['CDS_seq'].str.len()\n",
    "    # make uAUG an indicator\n",
    "    halflife_pombe_df['num_uAUG'] = halflife_pombe_df['num_uAUG'] > 0\n",
    "    # make codons into ratios\n",
    "    for codon in codon_vars_pombe[:-1]:\n",
    "        halflife_pombe_df[codon] = halflife_pombe_df[codon]/halflife_pombe_df['CDS_length']\n",
    "    # finally log the length\n",
    "    halflife_pombe_df['UTR5_length_log'] = np.log2(halflife_pombe_df['UTR5.length'])\n",
    "    halflife_pombe_df['UTR3_length_log'] = np.log2(halflife_pombe_df['UTR3.length'])\n",
    "    halflife_pombe_df['CDS_length_log'] = np.log2(halflife_pombe_df['CDS_length'])\n",
    "    halflife_pombe_df[\"log_hl\"] = np.log2(halflife_pombe_df[\"half.life\"])\n",
    "    ols_hl_pombe_full = (statsmodels.regression.linear_model.OLS\n",
    "                  .from_formula('log_hl ~ {}'.format(\"+\".join(codon_vars_pombe + signif_vars_pombe)),\n",
    "                                data=halflife_pombe_df))#.query('UTR5_length >= 20 and UTR3_length >= 20')))\n",
    "\n",
    "    res_hl_pombe_full = ols_hl_pombe_full.fit()\n",
    "    \n",
    "    three_sequences = pd.read_csv(\"./data/Sequences/Annotation/Sequences/schizosaccharomyces_pombe/schizosaccharomyces_pombe_three_prime_remapped.tsv\",sep=\"\\t\")\n",
    "    \n",
    "    pombe_emb_dict = {} \n",
    "    for path in path_list:\n",
    "        tmp = np.load(f\"{project_path}/{path}/embeddings.npy\")            \n",
    "        pombe_emb_dict[get_model_name(path)] = [tmp[i] for i in range(tmp.shape[0])]\n",
    "    \n",
    "    for model_name, emb in pombe_emb_dict.items():\n",
    "        three_sequences[model_name] = emb\n",
    "    three_sequences.drop_duplicates(subset=['gene_id'], keep='first', inplace=True)\n",
    "\n",
    "\n",
    "    halflife_pombe_df = halflife_pombe_df.merge(three_sequences[[\"map.ids\"] +list(pombe_emb_dict.keys())],on=\"map.ids\")\n",
    "    y_obs = np.array(halflife_pombe_df[\"log_hl\"])\n",
    "\n",
    "    X_base = np.asarray(patsy.dmatrix('~ -1 + {}'.format(\"+\".join(codon_vars_pombe[:-1] + signif_vars_pombe[:-5])), \n",
    "                  data=halflife_pombe_df))\n",
    "\n",
    "    X_jun = np.concatenate([X_base, np.array(halflife_pombe_df[signif_vars_pombe[-5:]])],axis=1)\n",
    "    #X_emb = np.concatenate([X_base, emb_pombe],axis=1)\n",
    "    X_gc = np.concatenate([X_base, np.array(halflife_pombe_df[['GC_content_UTR3']])],axis=1)\n",
    "    \n",
    "    X_models = {}\n",
    "    for model in pombe_emb_dict.keys():\n",
    "        X_models[model] = np.concatenate([X_base, np.stack(halflife_pombe_df[model])],axis=1)\n",
    "\n",
    "    X_2mer = np.concatenate([X_base, np.stack(halflife_pombe_df['UTR3_seq'].apply(lambda x: kmerizer2.kmerize(x)))],axis=1)\n",
    "    X_3mer = np.concatenate([X_base, np.stack(halflife_pombe_df['UTR3_seq'].apply(lambda x: kmerizer3.kmerize(x)))],axis=1)\n",
    "    X_4mer = np.concatenate([X_base, np.stack(halflife_pombe_df['UTR3_seq'].apply(lambda x: kmerizer4.kmerize(x)))],axis=1)\n",
    "    X_5mer = np.concatenate([X_base, np.stack(halflife_pombe_df['UTR3_seq'].apply(lambda x: kmerizer5.kmerize(x)))],axis=1)\n",
    "    X_6mer = np.concatenate([X_base, np.stack(halflife_pombe_df['UTR3_seq'].apply(lambda x: kmerizer6.kmerize(x)))],axis=1)\n",
    "    \n",
    "    #Pred Half Life\n",
    "    \n",
    "    data_matrices = {\"2-mer counts\":X_2mer, \n",
    "                 \"3-mer counts\":X_3mer, \n",
    "                 \"4-mer counts\":X_4mer,\n",
    "                 \"5-mer counts\":X_5mer, \n",
    "                 \"Eser Features\":X_jun}\n",
    "    data_matrices.update(X_models)\n",
    "    rows = []\n",
    "    test_predictions = []\n",
    "    total_len = X_base.shape[0]\n",
    "    n_splits = 10\n",
    "\n",
    "    kfold = sklearn.model_selection.KFold(n_splits=n_splits, shuffle=True, random_state=42)\n",
    "\n",
    "    for key in data_matrices:\n",
    "        print(key)\n",
    "        y = y_obs\n",
    "        X = data_matrices[key]\n",
    "\n",
    "        y_pred_list = []\n",
    "        y_true_list = []\n",
    "        for i, (train_index, test_index) in enumerate(kfold.split(X, y)):\n",
    "            pipe = pipeline.make_pipeline(sklearn.preprocessing.StandardScaler(), sklearn.linear_model.RidgeCV(cv=5, alphas=[0.1, 1, 10, 100, 1000,10000]))\n",
    "            X_train = X[train_index]\n",
    "            y_train = y[train_index]\n",
    "            X_test = X[test_index]\n",
    "            y_test = y[test_index]\n",
    "            pipe.fit(X_train,y_train)\n",
    "            y_pred = pipe.predict(X_test)\n",
    "            r2_test = pearson_r2_metric(y_test, y_pred)\n",
    "            # save results\n",
    "            y_pred_list.append(y_pred)\n",
    "            y_true_list.append(y_test)\n",
    "            rows.append({\"model\":key, \"r2\":r2_test})\n",
    "        test_predictions.append(pd.DataFrame({\"model\":key, \n",
    "                                 \"pred\": np.concatenate(y_pred_list), \n",
    "                                 \"true\": np.concatenate(y_true_list)}))\n",
    "\n",
    "    metrics_pombe = pd.DataFrame(rows)\n",
    "    pred_pombe = pd.concat(test_predictions)\n",
    "    pred_pombe[\"residual\"] = (pred_pombe[\"true\"] - pred_pombe[\"pred\"])**2\n",
    "    display(metrics_pombe.groupby('model').agg(\"median\"))\n",
    "    return metrics_pombe, pred_pombe"
   ]
  },
  {
   "cell_type": "code",
   "execution_count": 16,
   "id": "c9834225-b156-4a05-9a6b-559b06064c02",
   "metadata": {
    "tags": []
   },
   "outputs": [
    {
     "name": "stdout",
     "output_type": "stream",
     "text": [
      "m2_species100k\n",
      "m2_agnostic\n",
      "m2_species200k\n",
      "2-mer counts\n",
      "3-mer counts\n",
      "4-mer counts\n",
      "5-mer counts\n",
      "Eser Features\n",
      "m2_species100k\n",
      "m2_agnostic\n",
      "m2_species200k\n"
     ]
    },
    {
     "data": {
      "text/html": [
       "<div>\n",
       "<style scoped>\n",
       "    .dataframe tbody tr th:only-of-type {\n",
       "        vertical-align: middle;\n",
       "    }\n",
       "\n",
       "    .dataframe tbody tr th {\n",
       "        vertical-align: top;\n",
       "    }\n",
       "\n",
       "    .dataframe thead th {\n",
       "        text-align: right;\n",
       "    }\n",
       "</style>\n",
       "<table border=\"1\" class=\"dataframe\">\n",
       "  <thead>\n",
       "    <tr style=\"text-align: right;\">\n",
       "      <th></th>\n",
       "      <th>r2</th>\n",
       "    </tr>\n",
       "    <tr>\n",
       "      <th>model</th>\n",
       "      <th></th>\n",
       "    </tr>\n",
       "  </thead>\n",
       "  <tbody>\n",
       "    <tr>\n",
       "      <th>2-mer counts</th>\n",
       "      <td>0.421239</td>\n",
       "    </tr>\n",
       "    <tr>\n",
       "      <th>3-mer counts</th>\n",
       "      <td>0.432528</td>\n",
       "    </tr>\n",
       "    <tr>\n",
       "      <th>4-mer counts</th>\n",
       "      <td>0.450010</td>\n",
       "    </tr>\n",
       "    <tr>\n",
       "      <th>5-mer counts</th>\n",
       "      <td>0.400181</td>\n",
       "    </tr>\n",
       "    <tr>\n",
       "      <th>Eser Features</th>\n",
       "      <td>0.434660</td>\n",
       "    </tr>\n",
       "    <tr>\n",
       "      <th>m2_agnostic</th>\n",
       "      <td>0.482896</td>\n",
       "    </tr>\n",
       "    <tr>\n",
       "      <th>m2_species100k</th>\n",
       "      <td>0.462518</td>\n",
       "    </tr>\n",
       "    <tr>\n",
       "      <th>m2_species200k</th>\n",
       "      <td>0.466542</td>\n",
       "    </tr>\n",
       "  </tbody>\n",
       "</table>\n",
       "</div>"
      ],
      "text/plain": [
       "                      r2\n",
       "model                   \n",
       "2-mer counts    0.421239\n",
       "3-mer counts    0.432528\n",
       "4-mer counts    0.450010\n",
       "5-mer counts    0.400181\n",
       "Eser Features   0.434660\n",
       "m2_agnostic     0.482896\n",
       "m2_species100k  0.462518\n",
       "m2_species200k  0.466542"
      ]
     },
     "metadata": {},
     "output_type": "display_data"
    }
   ],
   "source": [
    "metrics_pombe, pred_pombe = pombe_half_life(dataset_and_model_map[\"pombe\"])"
   ]
  },
  {
   "cell_type": "code",
   "execution_count": 30,
   "id": "f2604591-d07a-449b-9213-b287afdae5e2",
   "metadata": {
    "tags": []
   },
   "outputs": [
    {
     "data": {
      "text/plain": [
       "WilcoxonResult(statistic=2949429.0, pvalue=2.055200150281855e-13)"
      ]
     },
     "execution_count": 30,
     "metadata": {},
     "output_type": "execute_result"
    }
   ],
   "source": [
    "scipy.stats.wilcoxon(pred_pombe.query('model == \"Aware:schizosaccharomyces pombe\"')[\"residual\"], pred_pombe.query('model == \"Eser Features\"')[\"residual\"])"
   ]
  },
  {
   "cell_type": "markdown",
   "id": "9b681b38-e755-47f8-851c-677683f22ace",
   "metadata": {},
   "source": [
    "# 3' UTR MPRA"
   ]
  },
  {
   "cell_type": "code",
   "execution_count": 31,
   "id": "1ea17b57-0f68-490d-b8d0-8c0fd134d6f4",
   "metadata": {
    "tags": []
   },
   "outputs": [],
   "source": [
    "def segal_mpra(path_list):\n",
    "    mpra_df = pd.read_csv(\"./data/Downstream_Targets/segal_2015.tsv\",sep=\"\\t\").dropna().reset_index(drop=True).reset_index()\n",
    "\n",
    "    mpra_df['TGTAAATA'] = mpra_df['Oligo Sequence'].str.count('TGTAAATA')\n",
    "    mpra_df['TGCAT'] = mpra_df['Oligo Sequence'].str.count('TGCAT')\n",
    "    mpra_df['ATATTC'] = mpra_df['Oligo Sequence'].str.count('ATATTC')\n",
    "    mpra_df['TTTTTTA'] = mpra_df['Oligo Sequence'].str.count('TTTTTTA')\n",
    "    mpra_df['GC_content_UTR3'] = (mpra_df['Oligo Sequence'].str.count('G') + mpra_df['Oligo Sequence'].str.count('C'))/mpra_df['Oligo Sequence'].str.len()\n",
    "\n",
    "    def replacer(x):\n",
    "        x = (x.replace(\"native_\",\"\")\n",
    "                .replace(\"pad_\",\"\")\n",
    "                .replace(\"Lib_pre_\",\"\")\n",
    "                .replace(\"term_full_\",\"\")\n",
    "                .replace(\"term_null_\",\"\")\n",
    "                .replace(\"term_ins_\",\"\")\n",
    "                .replace(\"lib_suff_nag_\",\"\")\n",
    "                .replace(\"ib_suff_osz_\",\"\")\n",
    "                .replace(\"stop_codon_\",\"\")\n",
    "                .replace(\"canon_term_neg_\",\"\")\n",
    "                .replace(\"canon_term_pos_\",\"\")\n",
    "                .replace(\"_no_ins\",\"\")\n",
    "                .replace(\"_three_ins\",\"\")\n",
    "                .replace(\"_four_ins\",\"\")\n",
    "                .replace(\"_two_ins\",\"\")\n",
    "                .replace(\"_one_ins\",\"\")\n",
    "                .replace(\"_one\",\"\")\n",
    "                .replace(\"_synth_insert_pad\",\"\")\n",
    "                .replace(\"_synth_t\",\"\")\n",
    "                .replace(\"_512_mut\",\"\")\n",
    "                .replace(\"_wt\",\"\")\n",
    "               )\n",
    "        if x.startswith('l'):\n",
    "            return x[1:]\n",
    "        else:\n",
    "            return x\n",
    "\n",
    "    mpra_df['block'] = [replacer(x.split(\"#\")[1].split(\"context_\")[-1]) for x in mpra_df[\"Description\"]]\n",
    "\n",
    "    y_obs = np.array(np.log2(mpra_df[\"Expression\"]))\n",
    "    groups = np.array(mpra_df['block'])\n",
    "\n",
    "    X_2mer = np.stack(mpra_df['Oligo Sequence'].apply(lambda x: kmerizer2.kmerize(x)))\n",
    "    X_3mer = np.stack(mpra_df['Oligo Sequence'].apply(lambda x: kmerizer3.kmerize(x)))\n",
    "    X_4mer = np.stack(mpra_df['Oligo Sequence'].apply(lambda x: kmerizer4.kmerize(x)))\n",
    "    X_5mer = np.stack(mpra_df['Oligo Sequence'].apply(lambda x: kmerizer5.kmerize(x)))\n",
    "    X_6mer = np.stack(mpra_df['Oligo Sequence'].apply(lambda x: kmerizer6.kmerize(x)))\n",
    "    \n",
    "    segal_emb_dict = {} \n",
    "    for path in path_list:\n",
    "        tmp = np.load(f\"{project_path}/{path}/embeddings.npy\")            \n",
    "        segal_emb_dict[get_model_name(path)] = np.array([tmp[i] for i in range(tmp.shape[0])])  \n",
    "    \n",
    "    data_matrices = {\"2-mer counts\":X_2mer, \n",
    "                     \"3-mer counts\":X_3mer, \n",
    "                     \"4-mer counts\":X_4mer,\n",
    "                     \"5-mer counts\":X_5mer,\n",
    "                    }\n",
    "    data_matrices.update(segal_emb_dict)\n",
    "    rows = []\n",
    "    df_list = []\n",
    "    np.random.seed(42)\n",
    "    test_predictions = []\n",
    "\n",
    "    group_kfold = sklearn.model_selection.GroupKFold(n_splits=10)\n",
    "\n",
    "    for key in data_matrices:\n",
    "        print(key)\n",
    "        y = y_obs\n",
    "        X = data_matrices[key]\n",
    "\n",
    "        y_pred_list = []\n",
    "        y_true_list = []\n",
    "        for i, (train_index, test_index) in enumerate(group_kfold.split(X, y, groups)):\n",
    "            pipe = pipeline.make_pipeline(sklearn.preprocessing.StandardScaler(), sklearn.linear_model.RidgeCV(cv=3, alphas=[10, 100, 1000])) #limit runtime\n",
    "            X_train = X[train_index]\n",
    "            y_train = y[train_index]\n",
    "            X_test = X[test_index]\n",
    "            y_test = y[test_index]\n",
    "            pipe.fit(X_train,y_train)\n",
    "            y_pred = pipe.predict(X_test)\n",
    "            r2_test = pearson_r2_metric(y_test, y_pred)\n",
    "            # save results\n",
    "            y_pred_list.append(y_pred)\n",
    "            y_true_list.append(y_test)\n",
    "            rows.append({\"model\":key, \"r2\":r2_test})\n",
    "        test_predictions.append(pd.DataFrame({\"model\":key, \n",
    "                                 \"pred\": np.concatenate(y_pred_list), \n",
    "                                 \"true\": np.concatenate(y_true_list)}))\n",
    "\n",
    "    metrics_mpra = pd.DataFrame(rows)\n",
    "    pred_mpra = pd.concat(test_predictions)\n",
    "    pred_mpra[\"residual\"] = (pred_mpra[\"true\"] - pred_mpra[\"pred\"])**2\n",
    "    bert_adn_preds = pred_mpra.query(\"model == 'Aware:candida glabrata'\")\n",
    "    bert_adn_preds_agnostic = pred_mpra.query(\"model == 'Agnostic'\")\n",
    "    bert_adn_preds[\"pred_agnostic\"] = bert_adn_preds_agnostic[\"pred\"]\n",
    "    test_indices = np.concatenate([test_index for i, (train_index, test_index) in enumerate(group_kfold.split(X, y, groups))])\n",
    "    bert_adn_preds[\"index\"] = test_indices\n",
    "    bert_adn_preds = bert_adn_preds.merge(mpra_df, on=\"index\")\n",
    "    return metrics_mpra, bert_adn_preds, pred_mpra"
   ]
  },
  {
   "cell_type": "code",
   "execution_count": 32,
   "id": "a2229014-fc14-4ef1-bde9-5ae25f2e1d9b",
   "metadata": {
    "tags": []
   },
   "outputs": [
    {
     "name": "stdout",
     "output_type": "stream",
     "text": [
      "Agnostic\n",
      "Aware:candida glabrata\n",
      "2-mer counts\n",
      "3-mer counts\n",
      "4-mer counts\n",
      "5-mer counts\n",
      "Agnostic\n",
      "Aware:candida glabrata\n"
     ]
    },
    {
     "name": "stderr",
     "output_type": "stream",
     "text": [
      "/scratch/tmp/hingerl/ipykernel_891843/2897999629.py:96: SettingWithCopyWarning: \n",
      "A value is trying to be set on a copy of a slice from a DataFrame.\n",
      "Try using .loc[row_indexer,col_indexer] = value instead\n",
      "\n",
      "See the caveats in the documentation: https://pandas.pydata.org/pandas-docs/stable/user_guide/indexing.html#returning-a-view-versus-a-copy\n",
      "/scratch/tmp/hingerl/ipykernel_891843/2897999629.py:98: SettingWithCopyWarning: \n",
      "A value is trying to be set on a copy of a slice from a DataFrame.\n",
      "Try using .loc[row_indexer,col_indexer] = value instead\n",
      "\n",
      "See the caveats in the documentation: https://pandas.pydata.org/pandas-docs/stable/user_guide/indexing.html#returning-a-view-versus-a-copy\n"
     ]
    },
    {
     "data": {
      "text/html": [
       "<div>\n",
       "<style scoped>\n",
       "    .dataframe tbody tr th:only-of-type {\n",
       "        vertical-align: middle;\n",
       "    }\n",
       "\n",
       "    .dataframe tbody tr th {\n",
       "        vertical-align: top;\n",
       "    }\n",
       "\n",
       "    .dataframe thead th {\n",
       "        text-align: right;\n",
       "    }\n",
       "</style>\n",
       "<table border=\"1\" class=\"dataframe\">\n",
       "  <thead>\n",
       "    <tr style=\"text-align: right;\">\n",
       "      <th></th>\n",
       "      <th>r2</th>\n",
       "    </tr>\n",
       "    <tr>\n",
       "      <th>model</th>\n",
       "      <th></th>\n",
       "    </tr>\n",
       "  </thead>\n",
       "  <tbody>\n",
       "    <tr>\n",
       "      <th>3-mer counts</th>\n",
       "      <td>0.276111</td>\n",
       "    </tr>\n",
       "    <tr>\n",
       "      <th>4-mer counts</th>\n",
       "      <td>0.278299</td>\n",
       "    </tr>\n",
       "    <tr>\n",
       "      <th>2-mer counts</th>\n",
       "      <td>0.303907</td>\n",
       "    </tr>\n",
       "    <tr>\n",
       "      <th>5-mer counts</th>\n",
       "      <td>0.336683</td>\n",
       "    </tr>\n",
       "    <tr>\n",
       "      <th>Agnostic</th>\n",
       "      <td>0.531816</td>\n",
       "    </tr>\n",
       "    <tr>\n",
       "      <th>Aware:candida glabrata</th>\n",
       "      <td>0.704453</td>\n",
       "    </tr>\n",
       "  </tbody>\n",
       "</table>\n",
       "</div>"
      ],
      "text/plain": [
       "                              r2\n",
       "model                           \n",
       "3-mer counts            0.276111\n",
       "4-mer counts            0.278299\n",
       "2-mer counts            0.303907\n",
       "5-mer counts            0.336683\n",
       "Agnostic                0.531816\n",
       "Aware:candida glabrata  0.704453"
      ]
     },
     "execution_count": 32,
     "metadata": {},
     "output_type": "execute_result"
    }
   ],
   "source": [
    "metrics_mpra, bert_adn_preds, pred_mpra = segal_mpra(dataset_and_model_map[\"segal\"])\n",
    "metrics_mpra.groupby('model').agg(\"median\").sort_values('r2')"
   ]
  },
  {
   "cell_type": "code",
   "execution_count": 33,
   "id": "bf7c137d-f0e3-47cd-9508-35f4954a0173",
   "metadata": {
    "tags": []
   },
   "outputs": [
    {
     "data": {
      "text/plain": [
       "WilcoxonResult(statistic=27866599.0, pvalue=0.0)"
      ]
     },
     "execution_count": 33,
     "metadata": {},
     "output_type": "execute_result"
    }
   ],
   "source": [
    "scipy.stats.wilcoxon(pred_mpra.query('model == \"Aware:candida glabrata\"')[\"residual\"], pred_mpra.query('model == \"Agnostic\"')[\"residual\"])\n"
   ]
  },
  {
   "cell_type": "code",
   "execution_count": 34,
   "id": "b739cfe0-ce23-45dc-9141-db3d3dbe0d77",
   "metadata": {
    "tags": []
   },
   "outputs": [
    {
     "data": {
      "image/png": "[encoded data removed]",
      "text/plain": [
       "<Figure size 640x480 with 1 Axes>"
      ]
     },
     "metadata": {
      "needs_background": "light"
     },
     "output_type": "display_data"
    },
    {
     "name": "stdout",
     "output_type": "stream",
     "text": [
      "\n"
     ]
    }
   ],
   "source": [
    "def analyze_fc(bert_adn_preds,gene):\n",
    "    plot_df = bert_adn_preds.loc[bert_adn_preds[\"block\"].str.contains(gene)]\n",
    "    wt_expr_true = plot_df.loc[plot_df[\"Description\"].str.contains(\"Native 3 UTRs\")].iloc[0][\"true\"]\n",
    "    wt_expr_pred = plot_df.loc[plot_df[\"Description\"].str.contains(\"Native 3 UTRs\")].iloc[0][\"pred\"]\n",
    "    wt_expr_pred_agnostic = plot_df.loc[plot_df[\"Description\"].str.contains(\"Native 3 UTRs\")].iloc[0][\"pred_agnostic\"]\n",
    "\n",
    "    plot_df = plot_df.loc[plot_df[\"Description\"].str.contains(\"Scanning mutagenesis\")]\n",
    "    assert len(set(plot_df[\"block\"])) == 1\n",
    "    plot_df[\"dist\"] = plot_df[\"Description\"].apply(lambda x: int(x.split(\"#\")[2].split(\"=\")[-1]))\n",
    "    plot_df[\"dist\"] = 140 - plot_df[\"dist\"]\n",
    "    plot_df[\"logfc_true\"] = plot_df[\"true\"] - wt_expr_true#np.log2(plot_df[\"true\"]/wt_expr_true)\n",
    "    plot_df[\"logfc_pred\"] = plot_df[\"pred\"] - wt_expr_pred#np.log2(plot_df[\"pred\"]/wt_expr_pred)\n",
    "    plot_df[\"logfc_pred_agnostic\"] = plot_df[\"pred_agnostic\"] - wt_expr_pred_agnostic#np.log2(plot_df[\"pred_agnostic\"]/wt_expr_pred_agnostic)\n",
    "    # set impossible fold changes to zero\n",
    "    #plot_df[\"logfc_pred\"] = plot_df[\"logfc_pred\"].fillna(0)\n",
    "    #plot_df[\"logfc_pred_agnostic\"] = plot_df[\"logfc_pred_agnostic\"].fillna(0)\n",
    "\n",
    "    plot_df = (plot_df[[\"dist\",\"logfc_pred\",\"logfc_true\",\"logfc_pred_agnostic\"]]\n",
    "               .rename(columns={\"logfc_pred\":\"Species LM\",\"logfc_pred_agnostic\":\"Agnostic LM\",\"logfc_true\":\"Observed\"})\n",
    "               .groupby('dist').mean().reset_index().melt(\"dist\"))\n",
    "    plot_df[\"variable\"] = pd.Categorical(plot_df[\"variable\"], ordered=True, categories=['Observed',\"Agnostic LM\", 'Species LM'])\n",
    "\n",
    "    p = (p9.ggplot(data=plot_df, mapping=p9.aes(x=\"dist\",y=\"value\",color=\"variable\",group=\"variable\")) \n",
    "     + p9.geom_point(size = 1) \n",
    "     + p9.geom_line(size = 1)\n",
    "     + p9.scale_color_manual(values=[\"mediumblue\",\"salmon\",\"crimson\"])\n",
    "    + p9.theme_minimal()\n",
    "         +p9.theme(axis_title=p9.element_text(size=10),legend_position = (0.70,0.248), legend_direction=\"vertical\", legend_background=p9.element_blank(), legend_key_size=9,\n",
    "            legend_title=p9.element_text(size=9),legend_text = p9.element_text(size=9),\n",
    "             )\n",
    "     #+ p9.geom_smooth(method=\"lm\")\n",
    "     + p9.labs(x=\"Distance to stop codon\",y=\"log$_2$ Fold Change w.r.t. WT\",color=\"\")\n",
    "    )\n",
    "    return plot_df, p\n",
    "plot_df, p = analyze_fc(bert_adn_preds, \"YDR131C\")\n",
    "print (p)\n",
    "#p.save(\"Downstream/Graphics/Paper/Downstream_Segal_FC_YDR131C.svg\", width=3, height=2.5)\n"
   ]
  },
  {
   "cell_type": "code",
   "execution_count": null,
   "id": "bf6baa86-cd16-4c0d-84f3-66a02c934a8e",
   "metadata": {},
   "outputs": [],
   "source": []
  },
  {
   "cell_type": "code",
   "execution_count": 41,
   "id": "c8d1c805-d43e-4805-bb8b-cf1e1ed1d637",
   "metadata": {
    "tags": []
   },
   "outputs": [],
   "source": [
    "#%%capture\n",
    "scanned_genes = set([x.split(\"#\")[1].split(\"context_native_\")[-1] for x in bert_adn_preds.loc[bert_adn_preds[\"Description\"].str.contains(\"Scanning mutagenesis\")][\"Description\"]])\n",
    "plot_df_list = []\n",
    "for gene in scanned_genes:\n",
    "    try:\n",
    "        plot_df = analyze_fc(bert_adn_preds, gene)[0]\n",
    "        plot_df[\"gene\"] = gene\n",
    "        plot_df_list.append(plot_df)\n",
    "    except IndexError:\n",
    "        # genes where we have no wt\n",
    "        #print(gene)\n",
    "        continue"
   ]
  },
  {
   "cell_type": "code",
   "execution_count": 42,
   "id": "b47e1cf0-1ef0-414f-b1bc-0b688705aa1c",
   "metadata": {
    "tags": []
   },
   "outputs": [],
   "source": [
    "plot_df = pd.concat(plot_df_list)"
   ]
  },
  {
   "cell_type": "code",
   "execution_count": 49,
   "id": "25604b3b-7369-498a-9ecb-c433918d81ce",
   "metadata": {
    "tags": []
   },
   "outputs": [
    {
     "data": {
      "image/png": "[encoded data removed]",
      "text/plain": [
       "<Figure size 640x480 with 1 Axes>"
      ]
     },
     "metadata": {
      "needs_background": "light"
     },
     "output_type": "display_data"
    },
    {
     "data": {
      "text/plain": [
       "<ggplot: (1409169869041)>"
      ]
     },
     "execution_count": 49,
     "metadata": {},
     "output_type": "execute_result"
    }
   ],
   "source": [
    "plot_df_full = pd.concat([plot_df.query('variable == \"Species LM\"')[[\"gene\",\"value\"]].rename(columns={\"value\":\"pred\"}).reset_index(drop=True), \n",
    "                          plot_df.query('variable == \"Observed\"')[[\"value\"]].rename(columns={\"value\":\"obs\"}).reset_index(drop=True)],axis=1)\n",
    "\n",
    "p = (p9.ggplot(data=plot_df_full, mapping=p9.aes(x=\"pred\",y=\"obs\")) \n",
    " #+ p9.geom_point(size=1,alpha=0.15)\n",
    " + p9.geom_point(size=2,alpha=0.1)\n",
    " + p9.geom_smooth(method=\"lm\")\n",
    " + p9.theme_minimal()\n",
    " + p9.labs(x=\"Predicted log2 FC (Species)\",y=\"Observed log2 FC\")\n",
    ")\n",
    "p"
   ]
  },
  {
   "cell_type": "markdown",
   "id": "46903ecf-0a03-4205-9344-2f1c4c988e92",
   "metadata": {
    "tags": []
   },
   "source": [
    "# Yeast Expression (Zrimec)"
   ]
  },
  {
   "cell_type": "code",
   "execution_count": 50,
   "id": "3ad97c27-15e7-4735-98e9-39b6c7c53d46",
   "metadata": {
    "tags": []
   },
   "outputs": [],
   "source": [
    "downstream_path_list = dataset_and_model_map[\"scer_downstream_fixedlen\"]\n",
    "upstream_path_list = dataset_and_model_map[\"scer_upstream\"]"
   ]
  },
  {
   "cell_type": "code",
   "execution_count": 51,
   "id": "67f7321a-f43c-40f0-85ac-d440c0188e01",
   "metadata": {
    "tags": []
   },
   "outputs": [],
   "source": [
    "expr_df = pd.read_csv(\"./data/Downstream_Targets/scerevisiae_tpm_full_cut5.csv\").query('TPM >= 5')\n",
    "\n",
    "# apply box-cox transform with lambda = 0.22\n",
    "expr_df[\"boxcox_TPM\"] = scipy.stats.boxcox(expr_df[\"TPM\"], lmbda=0.22)\n",
    "# regress out gene length\n",
    "gene_lengths = np.array(expr_df[\"gene_len\"]).reshape(-1, 1)\n",
    "expr_df[\"residual_boxcox_TPM\"] = expr_df[\"boxcox_TPM\"] - sklearn.linear_model.LinearRegression().fit(y=expr_df[\"boxcox_TPM\"], X=gene_lengths).predict(X=gene_lengths)\n",
    "\n",
    "# take median over samples\n",
    "expr_df = expr_df.groupby('gene_id')[[\"residual_boxcox_TPM\",\"boxcox_TPM\",\"TPM\"]].median().reset_index()\n",
    "expr_df[\"log_TPM\"] = np.log10(expr_df[\"TPM\"] + 1)\n",
    "\n",
    "# get test genes\n",
    "test_genes = pd.read_csv(\"./data/Downstream_Targets/test_gene_ids.csv\")\n",
    "test_genes_set = set(test_genes[\"names_test\"])\n",
    "expr_df[\"is_test\"] = expr_df[\"gene_id\"].isin(test_genes_set)\n",
    "\n",
    "five_sequences = pd.read_parquet(\"./data/Sequences/Annotation/Sequences/saccharomyces_cerevisiae/saccharomyces_cerevisiae_five_prime.parquet\")\n",
    "cds_sequences = pd.read_parquet(\"./data/Sequences/Annotation/Sequences/saccharomyces_cerevisiae/saccharomyces_cerevisiae_cds.parquet\")\n",
    "three_sequences = pd.read_parquet(\"./data/Sequences/Annotation/Sequences/saccharomyces_cerevisiae/saccharomyces_cerevisiae_three_prime.parquet\")"
   ]
  },
  {
   "cell_type": "code",
   "execution_count": 52,
   "id": "3276fe7f-5d71-44d9-bbb7-af8b6100851e",
   "metadata": {
    "tags": []
   },
   "outputs": [
    {
     "name": "stdout",
     "output_type": "stream",
     "text": [
      "Agnostic embedding-downstream_300-static_agnostic-scer_downstream_fixedlen-512_withstop_bertstyle\n",
      "Agnostic embedding-downstream_300-static_agnostic-scer_downstream_fixedlen-512_withstop_bertstyle\n",
      "Aware:candida glabrata embedding-species_downstream_300-static_candida_glabrata-scer_downstream_fixedlen-512_withstop_bertstyle\n",
      "Aware:candida glabrata embedding-species_downstream_300-static_candida_glabrata-scer_downstream_fixedlen-512_withstop_bertstyle\n",
      "embedding-upstream_1000-static_agnostic-scer_upstream-1024_withoutstop_bertstyle\n",
      "Agnostic embedding-upstream_1000-static_agnostic-scer_upstream-1024_withoutstop_bertstyle\n",
      "Agnostic embedding-upstream_1000-static_agnostic-scer_upstream-1024_withoutstop_bertstyle\n",
      "embedding-species_upstream_1000-static_kazachstania_africana_cbs_2517_gca_000304475-scer_upstream-1024_withoutstop_bertstyle\n",
      "Aware:kazachstania africana embedding-species_upstream_1000-static_kazachstania_africana_cbs_2517_gca_000304475-scer_upstream-1024_withoutstop_bertstyle\n",
      "Aware:kazachstania africana embedding-species_upstream_1000-static_kazachstania_africana_cbs_2517_gca_000304475-scer_upstream-1024_withoutstop_bertstyle\n",
      "Upstream: Agnostic\n",
      "Upstream: Aware:kazachstania africana\n",
      "Upstream: Aware:kazachstania africana\n"
     ]
    }
   ],
   "source": [
    "three_prime_emb_dict, five_prime_emb_dict = {},{} \n",
    "def get_model_name(path):\n",
    "    token = \" \".join(path.split(\"-\")[2].split(\"_\")[1:])\n",
    "    if len(re.findall('\\d+', token)) > 0:\n",
    "        token = \" \".join(token.split(\" \")[:2])\n",
    "    model_name  = path.split(\"-\")[1]\n",
    "    token = f\"Aware:{token}, \" if not 'agnostic' in token else f\"Agnostic, \"\n",
    "    print (f\"{token}\".rstrip(', '), path)\n",
    "    return (f\"{token}\".rstrip(', '))\n",
    "\n",
    "for path in downstream_path_list:\n",
    "    tmp = np.load(f\"{project_path}/{path}/embeddings.npy\")            \n",
    "    three_prime_emb_dict[\"Downstream: \" + get_model_name(path)] = [tmp[i] for i in range(tmp.shape[0])]\n",
    "    three_sequences[\"Downstream: \" + get_model_name(path)] = [tmp[i] for i in range(tmp.shape[0])]\n",
    "three_sequences.drop_duplicates(subset=['gene_id'], keep='first', inplace=True)\n",
    "    \n",
    "for path in upstream_path_list:\n",
    "    print (path)\n",
    "    tmp = np.load(f\"{project_path}/{path}/embeddings.npy\")            \n",
    "    five_prime_emb_dict[\"Upstream: \" + get_model_name(path)] = [tmp[i] for i in range(tmp.shape[0])]\n",
    "    five_sequences[\"Upstream: \" + get_model_name(path)] = [tmp[i] for i in range(tmp.shape[0])]\n",
    "five_sequences.drop_duplicates(subset=['gene_id'], keep='first', inplace=True)\n",
    "expr_merged = expr_df.merge(five_sequences, on=\"gene_id\").merge(cds_sequences, on=\"gene_id\").merge(three_sequences, on=\"gene_id\")\n",
    "y_obs = np.array(expr_merged[\"residual_boxcox_TPM\"])\n",
    "X_models = {}\n",
    "for model in three_prime_emb_dict.keys():\n",
    "    X_models[model] = np.stack(expr_merged[model])\n",
    "for model in five_prime_emb_dict.keys():\n",
    "    print (model)\n",
    "    five_prime_model = np.stack(expr_merged[model])\n",
    "    X_models[model] = five_prime_model\n",
    "    if \"Aware\" in model:\n",
    "        print (model)\n",
    "        X_models[f\"Combined: Downstream: Aware:candida glabrata ! {model}\"] = np.concatenate([five_prime_model, np.stack(expr_merged[\"Downstream: Aware:candida glabrata\"])],axis=1)\n",
    "    else:\n",
    "        X_models[f\"Combined: Downstream: Agnostic ! {model}\"] = np.concatenate([five_prime_model, np.stack(expr_merged[\"Downstream: Agnostic\"])],axis=1)\n",
    "    #for model_three in three_prime_emb_dict.keys():\n",
    "    #    X_models[f\"Combined: {model_three} ! {model}\"] = np.concatenate([X_base, five_prime_model, np.stack(expr_merged[model_three])],axis=1)\n"
   ]
  },
  {
   "cell_type": "code",
   "execution_count": 53,
   "id": "d6285642-e39e-423f-a56d-8391b11968b1",
   "metadata": {
    "tags": []
   },
   "outputs": [],
   "source": [
    "#X_base = np.zeros((y_obs.shape[0],1))\n",
    "X_3mer_five = np.stack(expr_merged['five_prime_seq'].apply(lambda x: kmerizer3.kmerize(x)))\n",
    "X_4mer_five = np.stack(expr_merged['five_prime_seq'].apply(lambda x: kmerizer4.kmerize(x)))\n",
    "X_5mer_five = np.stack(expr_merged['five_prime_seq'].apply(lambda x: kmerizer5.kmerize(x)))\n",
    "\n",
    "X_3mer_three = np.stack(expr_merged['three_prime_seq'].apply(lambda x: kmerizer3.kmerize(x)))\n",
    "X_4mer_three = np.stack(expr_merged['three_prime_seq'].apply(lambda x: kmerizer4.kmerize(x)))\n",
    "X_5mer_three = np.stack(expr_merged['three_prime_seq'].apply(lambda x: kmerizer5.kmerize(x)))\n",
    "\n",
    "X_3mer_combined = np.concatenate([X_3mer_five, X_3mer_three],axis=1)\n",
    "X_4mer_combined = np.concatenate([X_4mer_five, X_4mer_three],axis=1)\n",
    "X_5mer_combined = np.concatenate([X_5mer_five, X_5mer_three],axis=1)\n",
    "\n",
    "data_matrices = {\n",
    "                 \"3-mer-fiveprime\":X_3mer_five, \n",
    "                 \"4-mer-fiveprime\":X_4mer_five,\n",
    "                 \"5-mer-fiveprime\":X_5mer_five, \n",
    "                 \"3-mer-threeprime\":X_3mer_three,\n",
    "                 \"4-mer-threeprime\":X_4mer_three,\n",
    "                 \"5-mer-threeprime\":X_5mer_three,\n",
    "                 \"3-mer-combined\":X_3mer_combined,\n",
    "                 \"4-mer-combined\":X_4mer_combined,\n",
    "                 \"5-mer-combined\":X_5mer_combined,\n",
    "}\n",
    "data_matrices.update(X_models)"
   ]
  },
  {
   "cell_type": "code",
   "execution_count": null,
   "id": "df22556e-5beb-404d-a8d2-bc63fd5a2394",
   "metadata": {},
   "outputs": [],
   "source": []
  },
  {
   "cell_type": "code",
   "execution_count": 54,
   "id": "fb8646f9-f227-4094-9bd4-91f5a8e4ae0f",
   "metadata": {
    "tags": []
   },
   "outputs": [
    {
     "name": "stdout",
     "output_type": "stream",
     "text": [
      "3-mer-fiveprime\n",
      "4-mer-fiveprime\n",
      "5-mer-fiveprime\n",
      "3-mer-threeprime\n",
      "4-mer-threeprime\n",
      "5-mer-threeprime\n",
      "3-mer-combined\n",
      "4-mer-combined\n",
      "5-mer-combined\n",
      "Downstream: Agnostic\n",
      "Downstream: Aware:candida glabrata\n",
      "Upstream: Agnostic\n",
      "Combined: Downstream: Agnostic ! Upstream: Agnostic\n",
      "Upstream: Aware:kazachstania africana\n",
      "Combined: Downstream: Aware:candida glabrata ! Upstream: Aware:kazachstania africana\n"
     ]
    }
   ],
   "source": [
    "rows = []\n",
    "df_list = []\n",
    "total_len = y_obs.shape[0]\n",
    "test_indices = np.array(expr_merged[\"is_test\"])#.astype(int)\n",
    "np.random.seed(42)\n",
    "\n",
    "trained_models = {}\n",
    "\n",
    "for key in data_matrices:\n",
    "    print(key)\n",
    "    y = y_obs\n",
    "    X = data_matrices[key]\n",
    "    pipe = pipeline.make_pipeline(sklearn.preprocessing.StandardScaler(), sklearn.linear_model.RidgeCV(cv=5,alphas=[10,100,1000])) \n",
    "    pipe.fit(X[~test_indices],y[~test_indices])\n",
    "    trained_models[key] = pipe\n",
    "    y_pred = pipe.predict(X[test_indices])\n",
    "    r2_val = pearson_r2_metric(y_obs[test_indices], y_pred)\n",
    "    rows.append({\"model\":key, \"r2\":r2_val})\n",
    "    df_list.append(pd.DataFrame({\"model\":key,\"y_pred\":y_pred,\"y_true\":y_obs[test_indices]}))\n",
    "        \n",
    "metrics_expr = pd.DataFrame(rows)\n",
    "preds_expr = pd.concat(df_list)"
   ]
  },
  {
   "cell_type": "code",
   "execution_count": 55,
   "id": "7335b3f8-f222-460c-833b-2765d08deaf5",
   "metadata": {
    "tags": []
   },
   "outputs": [
    {
     "data": {
      "text/html": [
       "<div>\n",
       "<style scoped>\n",
       "    .dataframe tbody tr th:only-of-type {\n",
       "        vertical-align: middle;\n",
       "    }\n",
       "\n",
       "    .dataframe tbody tr th {\n",
       "        vertical-align: top;\n",
       "    }\n",
       "\n",
       "    .dataframe thead th {\n",
       "        text-align: right;\n",
       "    }\n",
       "</style>\n",
       "<table border=\"1\" class=\"dataframe\">\n",
       "  <thead>\n",
       "    <tr style=\"text-align: right;\">\n",
       "      <th></th>\n",
       "      <th>model</th>\n",
       "      <th>r2</th>\n",
       "    </tr>\n",
       "  </thead>\n",
       "  <tbody>\n",
       "    <tr>\n",
       "      <th>0</th>\n",
       "      <td>3-mer-fiveprime</td>\n",
       "      <td>0.055139</td>\n",
       "    </tr>\n",
       "    <tr>\n",
       "      <th>1</th>\n",
       "      <td>4-mer-fiveprime</td>\n",
       "      <td>0.075567</td>\n",
       "    </tr>\n",
       "    <tr>\n",
       "      <th>2</th>\n",
       "      <td>5-mer-fiveprime</td>\n",
       "      <td>0.079634</td>\n",
       "    </tr>\n",
       "    <tr>\n",
       "      <th>3</th>\n",
       "      <td>3-mer-threeprime</td>\n",
       "      <td>0.045927</td>\n",
       "    </tr>\n",
       "    <tr>\n",
       "      <th>4</th>\n",
       "      <td>4-mer-threeprime</td>\n",
       "      <td>0.040213</td>\n",
       "    </tr>\n",
       "    <tr>\n",
       "      <th>5</th>\n",
       "      <td>5-mer-threeprime</td>\n",
       "      <td>0.016925</td>\n",
       "    </tr>\n",
       "    <tr>\n",
       "      <th>6</th>\n",
       "      <td>3-mer-combined</td>\n",
       "      <td>0.078568</td>\n",
       "    </tr>\n",
       "    <tr>\n",
       "      <th>7</th>\n",
       "      <td>4-mer-combined</td>\n",
       "      <td>0.094468</td>\n",
       "    </tr>\n",
       "    <tr>\n",
       "      <th>8</th>\n",
       "      <td>5-mer-combined</td>\n",
       "      <td>0.073245</td>\n",
       "    </tr>\n",
       "    <tr>\n",
       "      <th>9</th>\n",
       "      <td>Downstream: Agnostic</td>\n",
       "      <td>0.240178</td>\n",
       "    </tr>\n",
       "    <tr>\n",
       "      <th>10</th>\n",
       "      <td>Downstream: Aware:candida glabrata</td>\n",
       "      <td>0.296830</td>\n",
       "    </tr>\n",
       "    <tr>\n",
       "      <th>11</th>\n",
       "      <td>Upstream: Agnostic</td>\n",
       "      <td>0.365009</td>\n",
       "    </tr>\n",
       "    <tr>\n",
       "      <th>12</th>\n",
       "      <td>Combined: Downstream: Agnostic ! Upstream: Agn...</td>\n",
       "      <td>0.437758</td>\n",
       "    </tr>\n",
       "    <tr>\n",
       "      <th>13</th>\n",
       "      <td>Upstream: Aware:kazachstania africana</td>\n",
       "      <td>0.491662</td>\n",
       "    </tr>\n",
       "    <tr>\n",
       "      <th>14</th>\n",
       "      <td>Combined: Downstream: Aware:candida glabrata !...</td>\n",
       "      <td>0.549527</td>\n",
       "    </tr>\n",
       "  </tbody>\n",
       "</table>\n",
       "</div>"
      ],
      "text/plain": [
       "                                                model        r2\n",
       "0                                     3-mer-fiveprime  0.055139\n",
       "1                                     4-mer-fiveprime  0.075567\n",
       "2                                     5-mer-fiveprime  0.079634\n",
       "3                                    3-mer-threeprime  0.045927\n",
       "4                                    4-mer-threeprime  0.040213\n",
       "5                                    5-mer-threeprime  0.016925\n",
       "6                                      3-mer-combined  0.078568\n",
       "7                                      4-mer-combined  0.094468\n",
       "8                                      5-mer-combined  0.073245\n",
       "9                                Downstream: Agnostic  0.240178\n",
       "10                 Downstream: Aware:candida glabrata  0.296830\n",
       "11                                 Upstream: Agnostic  0.365009\n",
       "12  Combined: Downstream: Agnostic ! Upstream: Agn...  0.437758\n",
       "13              Upstream: Aware:kazachstania africana  0.491662\n",
       "14  Combined: Downstream: Aware:candida glabrata !...  0.549527"
      ]
     },
     "execution_count": 55,
     "metadata": {},
     "output_type": "execute_result"
    }
   ],
   "source": [
    "metrics_expr"
   ]
  },
  {
   "cell_type": "code",
   "execution_count": 56,
   "id": "31681b3e-de65-4c37-8aa5-7a99eb58b97b",
   "metadata": {
    "tags": []
   },
   "outputs": [],
   "source": [
    "tmp_data_matrices= dict()\n",
    "for key in data_matrices.keys():\n",
    "    tmp_data_matrices[key] = (data_matrices[key],trained_models[key][1].alpha_)\n",
    "data_matrices = tmp_data_matrices"
   ]
  },
  {
   "cell_type": "code",
   "execution_count": 90,
   "id": "785206a0-ac67-47d5-b5c4-9345668235f3",
   "metadata": {
    "tags": []
   },
   "outputs": [
    {
     "name": "stdout",
     "output_type": "stream",
     "text": [
      "3-mer-fiveprime\n",
      "4-mer-fiveprime\n",
      "5-mer-fiveprime\n",
      "3-mer-threeprime\n",
      "4-mer-threeprime\n",
      "5-mer-threeprime\n",
      "3-mer-combined\n",
      "4-mer-combined\n",
      "5-mer-combined\n",
      "Downstream: Agnostic\n"
     ]
    },
    {
     "name": "stderr",
     "output_type": "stream",
     "text": [
      " 69%|██████▉   | 69/100 [00:03<00:01, 20.35it/s]\n"
     ]
    },
    {
     "ename": "KeyboardInterrupt",
     "evalue": "",
     "output_type": "error",
     "traceback": [
      "\u001b[0;31m---------------------------------------------------------------------------\u001b[0m",
      "\u001b[0;31mKeyboardInterrupt\u001b[0m                         Traceback (most recent call last)",
      "Cell \u001b[0;32mIn[90], line 21\u001b[0m\n\u001b[1;32m     19\u001b[0m smpl_indices \u001b[38;5;241m=\u001b[39m np\u001b[38;5;241m.\u001b[39mrandom\u001b[38;5;241m.\u001b[39mchoice(train_indices, size\u001b[38;5;241m=\u001b[39m\u001b[38;5;28mlen\u001b[39m(train_indices))\n\u001b[1;32m     20\u001b[0m pipe \u001b[38;5;241m=\u001b[39m pipeline\u001b[38;5;241m.\u001b[39mmake_pipeline(sklearn\u001b[38;5;241m.\u001b[39mpreprocessing\u001b[38;5;241m.\u001b[39mStandardScaler(), sklearn\u001b[38;5;241m.\u001b[39mlinear_model\u001b[38;5;241m.\u001b[39mRidge(alpha\u001b[38;5;241m=\u001b[39malpha))\n\u001b[0;32m---> 21\u001b[0m \u001b[43mpipe\u001b[49m\u001b[38;5;241;43m.\u001b[39;49m\u001b[43mfit\u001b[49m\u001b[43m(\u001b[49m\u001b[43mX\u001b[49m\u001b[43m[\u001b[49m\u001b[43msmpl_indices\u001b[49m\u001b[43m]\u001b[49m\u001b[43m,\u001b[49m\u001b[43my\u001b[49m\u001b[43m[\u001b[49m\u001b[43msmpl_indices\u001b[49m\u001b[43m]\u001b[49m\u001b[43m)\u001b[49m\n\u001b[1;32m     22\u001b[0m y_pred \u001b[38;5;241m=\u001b[39m pipe\u001b[38;5;241m.\u001b[39mpredict(X[test_indices])\n\u001b[1;32m     23\u001b[0m r2_val \u001b[38;5;241m=\u001b[39m pearson_r2_metric(y_obs[test_indices], y_pred)\n",
      "File \u001b[0;32m/opt/modules/i12g/anaconda/envs/motifnew/lib/python3.9/site-packages/sklearn/pipeline.py:405\u001b[0m, in \u001b[0;36mPipeline.fit\u001b[0;34m(self, X, y, **fit_params)\u001b[0m\n\u001b[1;32m    403\u001b[0m     \u001b[38;5;28;01mif\u001b[39;00m \u001b[38;5;28mself\u001b[39m\u001b[38;5;241m.\u001b[39m_final_estimator \u001b[38;5;241m!=\u001b[39m \u001b[38;5;124m\"\u001b[39m\u001b[38;5;124mpassthrough\u001b[39m\u001b[38;5;124m\"\u001b[39m:\n\u001b[1;32m    404\u001b[0m         fit_params_last_step \u001b[38;5;241m=\u001b[39m fit_params_steps[\u001b[38;5;28mself\u001b[39m\u001b[38;5;241m.\u001b[39msteps[\u001b[38;5;241m-\u001b[39m\u001b[38;5;241m1\u001b[39m][\u001b[38;5;241m0\u001b[39m]]\n\u001b[0;32m--> 405\u001b[0m         \u001b[38;5;28;43mself\u001b[39;49m\u001b[38;5;241;43m.\u001b[39;49m\u001b[43m_final_estimator\u001b[49m\u001b[38;5;241;43m.\u001b[39;49m\u001b[43mfit\u001b[49m\u001b[43m(\u001b[49m\u001b[43mXt\u001b[49m\u001b[43m,\u001b[49m\u001b[43m \u001b[49m\u001b[43my\u001b[49m\u001b[43m,\u001b[49m\u001b[43m \u001b[49m\u001b[38;5;241;43m*\u001b[39;49m\u001b[38;5;241;43m*\u001b[39;49m\u001b[43mfit_params_last_step\u001b[49m\u001b[43m)\u001b[49m\n\u001b[1;32m    407\u001b[0m \u001b[38;5;28;01mreturn\u001b[39;00m \u001b[38;5;28mself\u001b[39m\n",
      "File \u001b[0;32m/opt/modules/i12g/anaconda/envs/motifnew/lib/python3.9/site-packages/sklearn/linear_model/_ridge.py:1134\u001b[0m, in \u001b[0;36mRidge.fit\u001b[0;34m(self, X, y, sample_weight)\u001b[0m\n\u001b[1;32m   1125\u001b[0m _accept_sparse \u001b[38;5;241m=\u001b[39m _get_valid_accept_sparse(sparse\u001b[38;5;241m.\u001b[39missparse(X), \u001b[38;5;28mself\u001b[39m\u001b[38;5;241m.\u001b[39msolver)\n\u001b[1;32m   1126\u001b[0m X, y \u001b[38;5;241m=\u001b[39m \u001b[38;5;28mself\u001b[39m\u001b[38;5;241m.\u001b[39m_validate_data(\n\u001b[1;32m   1127\u001b[0m     X,\n\u001b[1;32m   1128\u001b[0m     y,\n\u001b[0;32m   (...)\u001b[0m\n\u001b[1;32m   1132\u001b[0m     y_numeric\u001b[38;5;241m=\u001b[39m\u001b[38;5;28;01mTrue\u001b[39;00m,\n\u001b[1;32m   1133\u001b[0m )\n\u001b[0;32m-> 1134\u001b[0m \u001b[38;5;28;01mreturn\u001b[39;00m \u001b[38;5;28;43msuper\u001b[39;49m\u001b[43m(\u001b[49m\u001b[43m)\u001b[49m\u001b[38;5;241;43m.\u001b[39;49m\u001b[43mfit\u001b[49m\u001b[43m(\u001b[49m\u001b[43mX\u001b[49m\u001b[43m,\u001b[49m\u001b[43m \u001b[49m\u001b[43my\u001b[49m\u001b[43m,\u001b[49m\u001b[43m \u001b[49m\u001b[43msample_weight\u001b[49m\u001b[38;5;241;43m=\u001b[39;49m\u001b[43msample_weight\u001b[49m\u001b[43m)\u001b[49m\n",
      "File \u001b[0;32m/opt/modules/i12g/anaconda/envs/motifnew/lib/python3.9/site-packages/sklearn/linear_model/_ridge.py:866\u001b[0m, in \u001b[0;36m_BaseRidge.fit\u001b[0;34m(self, X, y, sample_weight)\u001b[0m\n\u001b[1;32m    863\u001b[0m     sample_weight \u001b[38;5;241m=\u001b[39m _check_sample_weight(sample_weight, X, dtype\u001b[38;5;241m=\u001b[39mX\u001b[38;5;241m.\u001b[39mdtype)\n\u001b[1;32m    865\u001b[0m \u001b[38;5;66;03m# when X is sparse we only remove offset from y\u001b[39;00m\n\u001b[0;32m--> 866\u001b[0m X, y, X_offset, y_offset, X_scale \u001b[38;5;241m=\u001b[39m \u001b[43m_preprocess_data\u001b[49m\u001b[43m(\u001b[49m\n\u001b[1;32m    867\u001b[0m \u001b[43m    \u001b[49m\u001b[43mX\u001b[49m\u001b[43m,\u001b[49m\n\u001b[1;32m    868\u001b[0m \u001b[43m    \u001b[49m\u001b[43my\u001b[49m\u001b[43m,\u001b[49m\n\u001b[1;32m    869\u001b[0m \u001b[43m    \u001b[49m\u001b[38;5;28;43mself\u001b[39;49m\u001b[38;5;241;43m.\u001b[39;49m\u001b[43mfit_intercept\u001b[49m\u001b[43m,\u001b[49m\n\u001b[1;32m    870\u001b[0m \u001b[43m    \u001b[49m\u001b[43mcopy\u001b[49m\u001b[38;5;241;43m=\u001b[39;49m\u001b[38;5;28;43mself\u001b[39;49m\u001b[38;5;241;43m.\u001b[39;49m\u001b[43mcopy_X\u001b[49m\u001b[43m,\u001b[49m\n\u001b[1;32m    871\u001b[0m \u001b[43m    \u001b[49m\u001b[43msample_weight\u001b[49m\u001b[38;5;241;43m=\u001b[39;49m\u001b[43msample_weight\u001b[49m\u001b[43m,\u001b[49m\n\u001b[1;32m    872\u001b[0m \u001b[43m\u001b[49m\u001b[43m)\u001b[49m\n\u001b[1;32m    874\u001b[0m \u001b[38;5;28;01mif\u001b[39;00m solver \u001b[38;5;241m==\u001b[39m \u001b[38;5;124m\"\u001b[39m\u001b[38;5;124msag\u001b[39m\u001b[38;5;124m\"\u001b[39m \u001b[38;5;129;01mand\u001b[39;00m sparse\u001b[38;5;241m.\u001b[39missparse(X) \u001b[38;5;129;01mand\u001b[39;00m \u001b[38;5;28mself\u001b[39m\u001b[38;5;241m.\u001b[39mfit_intercept:\n\u001b[1;32m    875\u001b[0m     \u001b[38;5;28mself\u001b[39m\u001b[38;5;241m.\u001b[39mcoef_, \u001b[38;5;28mself\u001b[39m\u001b[38;5;241m.\u001b[39mn_iter_, \u001b[38;5;28mself\u001b[39m\u001b[38;5;241m.\u001b[39mintercept_ \u001b[38;5;241m=\u001b[39m _ridge_regression(\n\u001b[1;32m    876\u001b[0m         X,\n\u001b[1;32m    877\u001b[0m         y,\n\u001b[0;32m   (...)\u001b[0m\n\u001b[1;32m    887\u001b[0m         check_input\u001b[38;5;241m=\u001b[39m\u001b[38;5;28;01mFalse\u001b[39;00m,\n\u001b[1;32m    888\u001b[0m     )\n",
      "File \u001b[0;32m/opt/modules/i12g/anaconda/envs/motifnew/lib/python3.9/site-packages/sklearn/linear_model/_base.py:255\u001b[0m, in \u001b[0;36m_preprocess_data\u001b[0;34m(X, y, fit_intercept, normalize, copy, sample_weight, check_input)\u001b[0m\n\u001b[1;32m    252\u001b[0m         X_offset \u001b[38;5;241m=\u001b[39m np\u001b[38;5;241m.\u001b[39maverage(X, axis\u001b[38;5;241m=\u001b[39m\u001b[38;5;241m0\u001b[39m, weights\u001b[38;5;241m=\u001b[39msample_weight)\n\u001b[1;32m    254\u001b[0m     X_offset \u001b[38;5;241m=\u001b[39m X_offset\u001b[38;5;241m.\u001b[39mastype(X\u001b[38;5;241m.\u001b[39mdtype, copy\u001b[38;5;241m=\u001b[39m\u001b[38;5;28;01mFalse\u001b[39;00m)\n\u001b[0;32m--> 255\u001b[0m     X \u001b[38;5;241m-\u001b[39m\u001b[38;5;241m=\u001b[39m X_offset\n\u001b[1;32m    257\u001b[0m \u001b[38;5;28;01mif\u001b[39;00m normalize:\n\u001b[1;32m    258\u001b[0m     X_var \u001b[38;5;241m=\u001b[39m X_var\u001b[38;5;241m.\u001b[39mastype(X\u001b[38;5;241m.\u001b[39mdtype, copy\u001b[38;5;241m=\u001b[39m\u001b[38;5;28;01mFalse\u001b[39;00m)\n",
      "\u001b[0;31mKeyboardInterrupt\u001b[0m: "
     ]
    }
   ],
   "source": [
    "#The boots trap\n",
    "\n",
    "rows = []\n",
    "df_list = []\n",
    "total_len = y_obs.shape[0]\n",
    "test_indices = np.array(expr_merged[\"is_test\"])#.astype(int)\n",
    "np.random.seed(42)\n",
    "\n",
    "train_indices = np.arange(len(test_indices))[~test_indices]\n",
    "bootstrapped_models = collections.defaultdict(list)\n",
    "\n",
    "for key in data_matrices:\n",
    "    print(key)\n",
    "    if not \"Downstream\" in key or \"6-mer\" in key:\n",
    "        continue\n",
    "    y = y_obs\n",
    "    X, alpha = data_matrices[key]\n",
    "    for i in tqdm.tqdm(range(100)):\n",
    "        smpl_indices = np.random.choice(train_indices, size=len(train_indices))\n",
    "        pipe = pipeline.make_pipeline(sklearn.preprocessing.StandardScaler(), sklearn.linear_model.Ridge(alpha=alpha))\n",
    "        pipe.fit(X[smpl_indices],y[smpl_indices])\n",
    "        y_pred = pipe.predict(X[test_indices])\n",
    "        r2_val = pearson_r2_metric(y_obs[test_indices], y_pred)\n",
    "        rows.append({\"model\":key, \"r2\":r2_val})\n",
    "        bootstrapped_models[key].append(pipe)\n",
    "\n",
    "metrics_expr_bootstrap = pd.DataFrame(rows)\n",
    "\n",
    "metrics_expr_bootstrap.groupby('model').std() * 2"
   ]
  },
  {
   "cell_type": "code",
   "execution_count": 91,
   "id": "04ac2e1b-9e18-4ee4-a073-e2d8b1ce2d28",
   "metadata": {
    "tags": []
   },
   "outputs": [
    {
     "ename": "NameError",
     "evalue": "name 'metrics_expr_bootstrap' is not defined",
     "output_type": "error",
     "traceback": [
      "\u001b[0;31m---------------------------------------------------------------------------\u001b[0m",
      "\u001b[0;31mNameError\u001b[0m                                 Traceback (most recent call last)",
      "Cell \u001b[0;32mIn[91], line 1\u001b[0m\n\u001b[0;32m----> 1\u001b[0m \u001b[43mmetrics_expr_bootstrap\u001b[49m\u001b[38;5;241m.\u001b[39mgroupby(\u001b[38;5;124m'\u001b[39m\u001b[38;5;124mmodel\u001b[39m\u001b[38;5;124m'\u001b[39m)\u001b[38;5;241m.\u001b[39mstd()\u001b[38;5;241m.\u001b[39msort_values(\u001b[38;5;124m\"\u001b[39m\u001b[38;5;124mr2\u001b[39m\u001b[38;5;124m\"\u001b[39m) \u001b[38;5;241m*\u001b[39m \u001b[38;5;241m2\u001b[39m\n",
      "\u001b[0;31mNameError\u001b[0m: name 'metrics_expr_bootstrap' is not defined"
     ]
    }
   ],
   "source": [
    "metrics_expr_bootstrap.groupby('model').std().sort_values(\"r2\") * 2"
   ]
  },
  {
   "cell_type": "markdown",
   "id": "2470f342-b8a3-4d83-8801-459dfe8af742",
   "metadata": {},
   "source": [
    "# Yamanishi"
   ]
  },
  {
   "cell_type": "code",
   "execution_count": 94,
   "id": "c17a5f65-91eb-4a34-99d5-e47323ad3b73",
   "metadata": {
    "tags": []
   },
   "outputs": [],
   "source": [
    "def yamanishi_mpra(path_list, trained_models):\n",
    "    yamanishi = pd.read_csv(\"./data/Downstream_Targets/yamanishi_terminator.tsv\",sep=\"\\t\")#[\"Sequence of amplified region\"].str.len().describe()\n",
    "    zrimec_preds = pd.read_csv(\"./data/Downstream_Targets/df_Yamanishi2013_predictions.csv\")\n",
    "    yamanishi_emb_dict = {} \n",
    "    for path in path_list:\n",
    "        tmp = np.load(f\"{project_path}/{path}/embeddings.npy\")            \n",
    "        yamanishi_emb_dict[get_model_name(path)] =  np.array([tmp[i] for i in range(tmp.shape[0])])\n",
    "    for model_name, emb in yamanishi_emb_dict.items():\n",
    "        print (model_name, emb.shape)\n",
    "        yamanishi[model_name] = [emb[i] for i in range(emb.shape[0])]\n",
    "    yamanishi = yamanishi.merge(zrimec_preds, left_on = \"Systematic Name\", right_on = \"gene_name\")\n",
    "    y_obs = np.array(yamanishi[\"relative FI\"])\n",
    "    X_base = np.zeros((len(y_obs),768))    \n",
    "    X_models = {}\n",
    "    data_matrices = {}\n",
    "    for model in yamanishi_emb_dict.keys():\n",
    "        if 'Nucleotide' in model:\n",
    "            X_models[model] = np.concatenate([np.zeros((len(y_obs), 2560)), np.stack(yamanishi[model],axis=0)],axis=1)\n",
    "        else:\n",
    "            try:\n",
    "                X_models[model] = np.concatenate([X_base, np.stack(yamanishi[model],axis=0)],axis=1)\n",
    "\n",
    "            except:\n",
    "                print (\"could not stack base\",model)\n",
    "        try:\n",
    "            data_matrices[model] = X_models[model],trained_models[f\"Combined: Downstream: {model} ! Upstream: Agnostic\"]\n",
    "            continue\n",
    "        except:\n",
    "            pass\n",
    "        try:\n",
    "            data_matrices[model] = X_models[model],trained_models[f\"Combined: Downstream: {model} ! Upstream: Aware:kazachstania africana\"]\n",
    "        except:\n",
    "            print (\"No matching combined model for:\",model)\n",
    "    rows = []\n",
    "    dataset = yamanishi\n",
    "    seq_col = \"Sequence of amplified region\"\n",
    "    dataset[seq_col] = \"TAA\" + dataset[seq_col]\n",
    "    dataset[seq_col] = dataset[seq_col].str[:300] # 509        \n",
    "    X_3mer_three = np.stack(dataset[seq_col].apply(lambda x: kmerizer3.kmerize(x)))\n",
    "    X_4mer_three = np.stack(dataset[seq_col].apply(lambda x: kmerizer4.kmerize(x)))\n",
    "    X_5mer_three = np.stack(dataset[seq_col].apply(lambda x: kmerizer5.kmerize(x)))\n",
    "    #X_6mer_three = np.concatenate([X_base, np.stack(dataset[seq_col].apply(lambda x: kmerizer6.kmerize(x)))],axis=1)\n",
    "    X_3mer_combined = np.concatenate([np.zeros(X_3mer_three.shape), X_3mer_three],axis=1)\n",
    "    X_4mer_combined = np.concatenate([np.zeros(X_4mer_three.shape), X_4mer_three],axis=1)\n",
    "    X_5mer_combined = np.concatenate([np.zeros(X_5mer_three.shape), X_5mer_three],axis=1)\n",
    "    data_matrices[\"3-mer\" ] = X_3mer_combined,trained_models['3-mer-combined']\n",
    "    data_matrices[\"4-mer\" ] = X_4mer_combined,trained_models['4-mer-combined']\n",
    "    data_matrices[\"5-mer\" ] = X_5mer_combined,trained_models['5-mer-combined']\n",
    "\n",
    "    for key in data_matrices:\n",
    "        print (key)\n",
    "        X = data_matrices[key][0]\n",
    "        print (X.shape)\n",
    "        pipe = data_matrices[key][1]\n",
    "        y_pred = pipe.predict(X)\n",
    "        r2_val = pearson_r2_metric(y_obs, y_pred)\n",
    "        rows.append({\"model\":key, \"r2\":r2_val})    \n",
    "    rows.append({\"model\":\"zrimec\",\"r2\":pearson_r2_metric(y_obs, yamanishi[\"ypred_tdh3\"])})\n",
    "    return pd.DataFrame(rows)\n",
    "\n",
    "        "
   ]
  },
  {
   "cell_type": "code",
   "execution_count": 97,
   "id": "7667b89c-9ef5-4f92-94b9-44731d9d172c",
   "metadata": {
    "tags": []
   },
   "outputs": [
    {
     "name": "stdout",
     "output_type": "stream",
     "text": [
      "Agnostic embedding-downstream_300-static_agnostic-yamanishi-512_withstop_bertstyle\n",
      "Aware:candida glabrata embedding-species_downstream_300-static_candida_glabrata-yamanishi-512_withstop_bertstyle\n",
      "Agnostic (5302, 768)\n",
      "Aware:candida glabrata (5302, 768)\n",
      "Agnostic\n",
      "(4005, 1536)\n",
      "Aware:candida glabrata\n",
      "(4005, 1536)\n",
      "3-mer\n",
      "(4005, 128)\n",
      "4-mer\n",
      "(4005, 512)\n",
      "5-mer\n",
      "(4005, 2048)\n"
     ]
    },
    {
     "data": {
      "text/html": [
       "<div>\n",
       "<style scoped>\n",
       "    .dataframe tbody tr th:only-of-type {\n",
       "        vertical-align: middle;\n",
       "    }\n",
       "\n",
       "    .dataframe tbody tr th {\n",
       "        vertical-align: top;\n",
       "    }\n",
       "\n",
       "    .dataframe thead th {\n",
       "        text-align: right;\n",
       "    }\n",
       "</style>\n",
       "<table border=\"1\" class=\"dataframe\">\n",
       "  <thead>\n",
       "    <tr style=\"text-align: right;\">\n",
       "      <th></th>\n",
       "      <th>model</th>\n",
       "      <th>r2</th>\n",
       "    </tr>\n",
       "  </thead>\n",
       "  <tbody>\n",
       "    <tr>\n",
       "      <th>0</th>\n",
       "      <td>Agnostic</td>\n",
       "      <td>0.070537</td>\n",
       "    </tr>\n",
       "    <tr>\n",
       "      <th>1</th>\n",
       "      <td>Aware:candida glabrata</td>\n",
       "      <td>0.107829</td>\n",
       "    </tr>\n",
       "    <tr>\n",
       "      <th>2</th>\n",
       "      <td>3-mer</td>\n",
       "      <td>0.019974</td>\n",
       "    </tr>\n",
       "    <tr>\n",
       "      <th>3</th>\n",
       "      <td>4-mer</td>\n",
       "      <td>0.029193</td>\n",
       "    </tr>\n",
       "    <tr>\n",
       "      <th>4</th>\n",
       "      <td>5-mer</td>\n",
       "      <td>0.024310</td>\n",
       "    </tr>\n",
       "    <tr>\n",
       "      <th>5</th>\n",
       "      <td>zrimec</td>\n",
       "      <td>0.099132</td>\n",
       "    </tr>\n",
       "  </tbody>\n",
       "</table>\n",
       "</div>"
      ],
      "text/plain": [
       "                    model        r2\n",
       "0                Agnostic  0.070537\n",
       "1  Aware:candida glabrata  0.107829\n",
       "2                   3-mer  0.019974\n",
       "3                   4-mer  0.029193\n",
       "4                   5-mer  0.024310\n",
       "5                  zrimec  0.099132"
      ]
     },
     "execution_count": 97,
     "metadata": {},
     "output_type": "execute_result"
    }
   ],
   "source": [
    "metrics_yamanishi = yamanishi_mpra(dataset_and_model_map[\"yamanishi\"], trained_models)\n",
    "metrics_yamanishi"
   ]
  },
  {
   "cell_type": "markdown",
   "id": "3a3f1959-6427-4095-8675-cedbd611279c",
   "metadata": {
    "tags": []
   },
   "source": [
    "# Segal Promoter MPRA"
   ]
  },
  {
   "cell_type": "code",
   "execution_count": 100,
   "id": "fd9b00d8-0535-4ce1-bb66-549aad7e8055",
   "metadata": {
    "tags": []
   },
   "outputs": [],
   "source": [
    "def segal_promoter_mpra(path_list, trained_models):\n",
    "    test_predictions = []\n",
    "    segal_seq = pd.read_csv(\"./data/Downstream_Targets/segal_sequences.tsv\",sep=\"\\t\")\n",
    "    segal_expr = pd.read_csv(\"./data/Downstream_Targets/segal_expression.tsv\",sep=\"\\t\")\n",
    "    zrimec_preds = pd.read_csv(\"./data/Downstream_Targets/df_Keren2013_predictions.csv\")\n",
    "    # five prime, no species\n",
    "    segal_emb_dict = dict()\n",
    "    for path in path_list:\n",
    "        tmp = np.load(f\"{project_path}/{path}/embeddings.npy\")  \n",
    "        segal_emb_dict[get_model_name(path)] = [tmp[i] for i in range(tmp.shape[0])]\n",
    "        \n",
    "    for model_name, emb in segal_emb_dict.items():\n",
    "        segal_seq[model_name] = emb\n",
    "    segal_5prime_df = segal_seq.merge(segal_expr, on=\"ORF\")\n",
    "    segal_5prime_df = segal_5prime_df.query('Seq != \"NoSeq\"')\n",
    "    segal_5prime_df = segal_5prime_df.loc[~segal_5prime_df.Seq.str.contains(\":\")]\n",
    "    \n",
    "    segal_5prime_zrimec = segal_5prime_df.merge(zrimec_preds[[\"ORF\",\"ypred\"]],on=\"ORF\")\n",
    "    y_obs = np.array(segal_5prime_zrimec[['Glucose', 'Fructose', 'Sorbitol 1M', 'Growth at 39o',\n",
    "       'NaCl 1M', 'Glucose lacking amino acids',\n",
    "       'Galactose lacking amino acids', 'Galactose', 'Glycerol', 'Ethanol']].mean(axis=1))\n",
    "    X_models = {}\n",
    "    for model_name in segal_emb_dict.keys():    \n",
    "        X_models[model_name] = np.stack(segal_5prime_zrimec[model_name],axis=0)\n",
    "        X_models[model_name] = np.concatenate([X_models[model_name], np.zeros(X_models[model_name].shape)],axis=1)\n",
    "    data_matrices = {}\n",
    "    for model in X_models.keys():\n",
    "        try:\n",
    "            data_matrices[f\"Combined: Downstream: {model} ! Upstream: Agnostic\"] = X_models[model],trained_models[f\"Combined: Downstream: {model} ! Upstream: Agnostic\"]\n",
    "            continue\n",
    "        except:\n",
    "            pass\n",
    "        try:\n",
    "            data_matrices[f\"Combined: Downstream: Aware:candida glabrata ! Upstream: {model}\"] = X_models[model],trained_models[f\"Combined: Downstream: Aware:candida glabrata ! Upstream: {model}\"]\n",
    "        except:\n",
    "            print (\"No matching combined model for:\",model)\n",
    "\n",
    "    dataset = segal_5prime_zrimec\n",
    "    #return dataset, y_obs\n",
    "    seq_col = \"Seq\"\n",
    "    X_3mer_five = np.stack(dataset[seq_col].apply(lambda x: kmerizer3.kmerize(x)))\n",
    "    X_4mer_five = np.stack(dataset[seq_col].apply(lambda x: kmerizer4.kmerize(x)))\n",
    "    X_5mer_five = np.stack(dataset[seq_col].apply(lambda x: kmerizer5.kmerize(x)))\n",
    "    #X_6mer_five = np.concatenate([X_base, np.stack(dataset[seq_col].apply(lambda x: kmerizer6.kmerize(x)))],axis=1)\n",
    "    print(X_3mer_five.shape)\n",
    "    X_3mer_combined = np.concatenate([X_3mer_five,np.zeros(X_3mer_five.shape)],axis=1)\n",
    "    X_4mer_combined = np.concatenate([X_4mer_five, np.zeros(X_4mer_five.shape)],axis=1)\n",
    "    X_5mer_combined = np.concatenate([X_5mer_five,np.zeros(X_5mer_five.shape)],axis=1)\n",
    "    data_matrices[\"3-mer\" ] = X_3mer_combined,trained_models['3-mer-combined']\n",
    "    data_matrices[\"4-mer\" ] = X_4mer_combined,trained_models['4-mer-combined']\n",
    "    data_matrices[\"5-mer\" ] = X_5mer_combined,trained_models['5-mer-combined']\n",
    "    \n",
    "    \n",
    "    rows = []\n",
    "    for key in data_matrices:\n",
    "        X = data_matrices[key][0]\n",
    "        pipe = data_matrices[key][1]\n",
    "        y_pred = pipe.predict(X)\n",
    "        r2_val = pearson_r2_metric(y_obs, y_pred)\n",
    "        rows.append({\"model\":key, \"r2\":r2_val})\n",
    "        test_predictions.append(pd.DataFrame({\"model\":key,\n",
    "                                 \"pred\": y_pred, \n",
    "                                 \"true\": y_obs}))\n",
    "    \n",
    "    rows.append({\"model\":\"zrimec\",\"r2\":pearson_r2_metric(y_obs, segal_5prime_zrimec[\"ypred\"])})\n",
    "    test_predictions.append(pd.DataFrame({\"model\":'zrimec',\n",
    "                                 \"pred\": segal_5prime_zrimec[\"ypred\"], \n",
    "                                 \"true\": y_obs}))\n",
    "    pred_micro_scer = pd.concat(test_predictions)\n",
    "    pred_micro_scer[\"residual\"] = (pred_micro_scer[\"true\"] - pred_micro_scer[\"pred\"])**2\n",
    "    return pd.DataFrame(rows),pred_micro_scer\n"
   ]
  },
  {
   "cell_type": "code",
   "execution_count": 101,
   "id": "d7f6716d-d625-409e-86a5-ce7ab4598247",
   "metadata": {
    "tags": []
   },
   "outputs": [
    {
     "name": "stdout",
     "output_type": "stream",
     "text": [
      "Aware:kazachstania africana embedding-species_upstream_1000-static_kazachstania_africana_cbs_2517_gca_000304475-segal_5prime-1024_withoutstop_bertstyle\n",
      "Agnostic embedding-upstream_1000-static_agnostic-segal_5prime-1024_withoutstop_bertstyle\n",
      "(621, 64)\n"
     ]
    }
   ],
   "source": [
    "segal_promoter_mpra_metrics, pred_micro_scer = segal_promoter_mpra(dataset_and_model_map[\"segal_5prime\"], trained_models)"
   ]
  },
  {
   "cell_type": "code",
   "execution_count": 102,
   "id": "488e7463-9014-45da-bcb3-73e562f2c4e4",
   "metadata": {
    "tags": []
   },
   "outputs": [
    {
     "data": {
      "text/html": [
       "<div>\n",
       "<style scoped>\n",
       "    .dataframe tbody tr th:only-of-type {\n",
       "        vertical-align: middle;\n",
       "    }\n",
       "\n",
       "    .dataframe tbody tr th {\n",
       "        vertical-align: top;\n",
       "    }\n",
       "\n",
       "    .dataframe thead th {\n",
       "        text-align: right;\n",
       "    }\n",
       "</style>\n",
       "<table border=\"1\" class=\"dataframe\">\n",
       "  <thead>\n",
       "    <tr style=\"text-align: right;\">\n",
       "      <th></th>\n",
       "      <th>model</th>\n",
       "      <th>r2</th>\n",
       "    </tr>\n",
       "  </thead>\n",
       "  <tbody>\n",
       "    <tr>\n",
       "      <th>0</th>\n",
       "      <td>Combined: Downstream: Aware:candida glabrata !...</td>\n",
       "      <td>0.453971</td>\n",
       "    </tr>\n",
       "    <tr>\n",
       "      <th>1</th>\n",
       "      <td>Combined: Downstream: Agnostic ! Upstream: Agn...</td>\n",
       "      <td>0.351996</td>\n",
       "    </tr>\n",
       "    <tr>\n",
       "      <th>2</th>\n",
       "      <td>3-mer</td>\n",
       "      <td>0.006833</td>\n",
       "    </tr>\n",
       "    <tr>\n",
       "      <th>3</th>\n",
       "      <td>4-mer</td>\n",
       "      <td>0.061807</td>\n",
       "    </tr>\n",
       "    <tr>\n",
       "      <th>4</th>\n",
       "      <td>5-mer</td>\n",
       "      <td>0.230468</td>\n",
       "    </tr>\n",
       "    <tr>\n",
       "      <th>5</th>\n",
       "      <td>zrimec</td>\n",
       "      <td>0.440276</td>\n",
       "    </tr>\n",
       "  </tbody>\n",
       "</table>\n",
       "</div>"
      ],
      "text/plain": [
       "                                               model        r2\n",
       "0  Combined: Downstream: Aware:candida glabrata !...  0.453971\n",
       "1  Combined: Downstream: Agnostic ! Upstream: Agn...  0.351996\n",
       "2                                              3-mer  0.006833\n",
       "3                                              4-mer  0.061807\n",
       "4                                              5-mer  0.230468\n",
       "5                                             zrimec  0.440276"
      ]
     },
     "execution_count": 102,
     "metadata": {},
     "output_type": "execute_result"
    }
   ],
   "source": [
    "segal_promoter_mpra_metrics"
   ]
  },
  {
   "cell_type": "code",
   "execution_count": 103,
   "id": "ab6f9940-fe14-4f47-ab06-2124a915110f",
   "metadata": {
    "tags": []
   },
   "outputs": [
    {
     "data": {
      "text/plain": [
       "WilcoxonResult(statistic=0.0, pvalue=2.233932560757222e-103)"
      ]
     },
     "execution_count": 103,
     "metadata": {},
     "output_type": "execute_result"
    }
   ],
   "source": [
    "scipy.stats.wilcoxon(pred_micro_scer.query('model == \"Combined: Downstream: Aware:candida glabrata ! Upstream: Aware:kazachstania africana\"')[\"residual\"], pred_micro_scer.query('model == \"zrimec\"')[\"residual\"])\n"
   ]
  },
  {
   "cell_type": "markdown",
   "id": "32e6180d-c6b2-4baa-a073-7d613a693430",
   "metadata": {},
   "source": [
    "# Predict for diauxic shift Microarray data"
   ]
  },
  {
   "cell_type": "code",
   "execution_count": 10,
   "id": "ce1f1a74-7bdc-4ff8-b11f-4eb92081648b",
   "metadata": {
    "tags": []
   },
   "outputs": [],
   "source": [
    "microarray_all = pd.read_csv(\"./data/Downstream_Targets/Microarray_raw_dedup.csv\")"
   ]
  },
  {
   "cell_type": "code",
   "execution_count": 11,
   "id": "8f20e5b6-2f6d-4b29-b1a4-a2a2b3916f39",
   "metadata": {
    "tags": []
   },
   "outputs": [],
   "source": [
    "organisms = ['candida_albicans_sc5314_gca_000784635', 'candida_glabrata', 'debaryomyces_hansenii_cbs767_gca_000006445',\n",
    " 'kluyveromyces_lactis_gca_000002515', 'schizosaccharomyces_japonicus', \"schizosaccharomyces_pombe\",\n",
    " 'vanderwaltozyma_polyspora_dsm_70294_gca_000150035', 'yarrowia_lipolytica', 'saccharomyces_cerevisiae']"
   ]
  },
  {
   "cell_type": "code",
   "execution_count": 12,
   "id": "af885580-e9bf-4684-b787-6ee721cb3a9c",
   "metadata": {
    "tags": []
   },
   "outputs": [],
   "source": [
    "five_sequences_all = pd.read_parquet(\"./data/Sequences/Annotation/Assembled/five_prime.parquet\")\n",
    "five_sequences_all = five_sequences_all.query('organism in @organisms')\n",
    "five_sequences_all = five_sequences_all.loc[five_sequences_all[\"five_prime_seq\"].str.len() == 1003]"
   ]
  },
  {
   "cell_type": "code",
   "execution_count": 13,
   "id": "26f14ec9-354c-4ebe-aed9-6cf468b8510d",
   "metadata": {
    "tags": []
   },
   "outputs": [],
   "source": [
    "emb_fiveprime = np.load(project_path+\"embedding-upstream_1000-static_agnostic-microarray-1024_withoutstop_bertstyle/embeddings.npy\")\n",
    "emb_fiveprime = [emb_fiveprime[i] for i in range(emb_fiveprime.shape[0])]\n",
    "five_sequences_all[\"five_prime_embedding\"] = emb_fiveprime\n",
    "\n",
    "emb_fiveprime_species = np.load(project_path+\"embedding-species_upstream_1000-static_many_species-microarray-1024_withoutstop_bertstyle/embeddings.npy\")\n",
    "emb_fiveprime_species = [emb_fiveprime_species[i] for i in range(emb_fiveprime_species.shape[0])]\n",
    "five_sequences_all[\"five_prime_embedding_species\"] = emb_fiveprime_species\n"
   ]
  },
  {
   "cell_type": "code",
   "execution_count": 14,
   "id": "5d68f01a-1b47-42bb-8efe-884b2a08580d",
   "metadata": {
    "tags": []
   },
   "outputs": [],
   "source": [
    "organisms_threeprime = ['candida_albicans_sc5314_gca_000784635', 'candida_glabrata', 'debaryomyces_hansenii_cbs767_gca_000006445',\n",
    "                 'kluyveromyces_lactis_gca_000002515',\n",
    "                 'vanderwaltozyma_polyspora_dsm_70294_gca_000150035', 'yarrowia_lipolytica']\n",
    "\n",
    "three_sequences_all = pd.read_parquet(\"./data/Sequences/Annotation/Assembled/three_prime.parquet\")\n",
    "three_sequences_all = three_sequences_all.query('organism in @organisms_threeprime')\n",
    "three_sequences_all[\"three_prime_seq\"] = three_sequences_all[\"three_prime_seq\"].str[:300]\n",
    "three_sequences_all = three_sequences_all.loc[three_sequences_all[\"three_prime_seq\"].str.len() == 300]"
   ]
  },
  {
   "cell_type": "code",
   "execution_count": 15,
   "id": "6be3fb69-b227-4a59-91d4-ae4fc69f94f7",
   "metadata": {
    "tags": []
   },
   "outputs": [],
   "source": [
    "emb_threeprime = np.load(project_path+\"embedding-downstream_300-static_agnostic-microarray_downstream-512_withstop_bertstyle/embeddings.npy\")\n",
    "emb_threeprime = [emb_threeprime[i] for i in range(emb_threeprime.shape[0])]\n",
    "three_sequences_all[\"three_prime_embedding\"] = emb_threeprime\n",
    "\n",
    "emb_threeprime_species = np.load(project_path+\"embedding-species_downstream_300-static_many_species-microarray_downstream-512_withstop_bertstyle/embeddings.npy\")\n",
    "emb_threeprime_species = [emb_threeprime_species[i] for i in range(emb_threeprime_species.shape[0])]\n",
    "three_sequences_all[\"three_prime_embedding_species\"] = emb_threeprime_species"
   ]
  },
  {
   "cell_type": "code",
   "execution_count": 16,
   "id": "82f6b441-7f60-44cd-bfef-977756569596",
   "metadata": {
    "tags": []
   },
   "outputs": [
    {
     "data": {
      "text/html": [
       "<div>\n",
       "<style scoped>\n",
       "    .dataframe tbody tr th:only-of-type {\n",
       "        vertical-align: middle;\n",
       "    }\n",
       "\n",
       "    .dataframe tbody tr th {\n",
       "        vertical-align: top;\n",
       "    }\n",
       "\n",
       "    .dataframe thead th {\n",
       "        text-align: right;\n",
       "    }\n",
       "</style>\n",
       "<table border=\"1\" class=\"dataframe\">\n",
       "  <thead>\n",
       "    <tr style=\"text-align: right;\">\n",
       "      <th></th>\n",
       "      <th>gene_id</th>\n",
       "      <th>transcript_id</th>\n",
       "      <th>Chromosome</th>\n",
       "      <th>Feature</th>\n",
       "      <th>Start</th>\n",
       "      <th>End</th>\n",
       "      <th>Strand</th>\n",
       "      <th>five_prime_start</th>\n",
       "      <th>five_prime_end</th>\n",
       "      <th>five_prime_seq</th>\n",
       "      <th>organism</th>\n",
       "      <th>species</th>\n",
       "      <th>five_prime_embedding</th>\n",
       "      <th>five_prime_embedding_species</th>\n",
       "    </tr>\n",
       "  </thead>\n",
       "  <tbody>\n",
       "    <tr>\n",
       "      <th>3435471</th>\n",
       "      <td>W5Q_00575</td>\n",
       "      <td>KHC83359</td>\n",
       "      <td>supercont4.1</td>\n",
       "      <td>start_codon</td>\n",
       "      <td>1234961</td>\n",
       "      <td>1234964</td>\n",
       "      <td>+</td>\n",
       "      <td>1233961</td>\n",
       "      <td>1234964</td>\n",
       "      <td>CCTCGTTTGAAATGGTAGTTTTGAAATAGGGTTTGTATCCAACAGG...</td>\n",
       "      <td>candida_albicans_sc5314_gca_000784635</td>\n",
       "      <td>candida_albicans</td>\n",
       "      <td>[0.068653494, 0.015206551, -0.021652974, -0.16...</td>\n",
       "      <td>[0.06493876, -0.100349575, 0.018514436, 0.0325...</td>\n",
       "    </tr>\n",
       "    <tr>\n",
       "      <th>3435472</th>\n",
       "      <td>W5Q_00675</td>\n",
       "      <td>KHC83458</td>\n",
       "      <td>supercont4.1</td>\n",
       "      <td>start_codon</td>\n",
       "      <td>1488618</td>\n",
       "      <td>1488621</td>\n",
       "      <td>+</td>\n",
       "      <td>1487618</td>\n",
       "      <td>1488621</td>\n",
       "      <td>ACCAGTATGTAAGGAGATGATGCTAACAGAGGATTCAGTTTTGGTG...</td>\n",
       "      <td>candida_albicans_sc5314_gca_000784635</td>\n",
       "      <td>candida_albicans</td>\n",
       "      <td>[0.036147296, 0.025376495, -0.0061738696, -0.0...</td>\n",
       "      <td>[0.0545368, 0.119643144, -0.0065993257, 0.0437...</td>\n",
       "    </tr>\n",
       "    <tr>\n",
       "      <th>3435473</th>\n",
       "      <td>W5Q_00708</td>\n",
       "      <td>KHC83490</td>\n",
       "      <td>supercont4.1</td>\n",
       "      <td>start_codon</td>\n",
       "      <td>1564846</td>\n",
       "      <td>1564849</td>\n",
       "      <td>+</td>\n",
       "      <td>1563846</td>\n",
       "      <td>1564849</td>\n",
       "      <td>AATTTTGACATTCAATATACCAGGACTGACTATACAATTGATTTCA...</td>\n",
       "      <td>candida_albicans_sc5314_gca_000784635</td>\n",
       "      <td>candida_albicans</td>\n",
       "      <td>[-0.15883088, -0.021592634, 0.030859975, -0.54...</td>\n",
       "      <td>[0.01612491, 0.086933665, -0.031225346, 0.0250...</td>\n",
       "    </tr>\n",
       "    <tr>\n",
       "      <th>3435474</th>\n",
       "      <td>W5Q_01237</td>\n",
       "      <td>KHC84013</td>\n",
       "      <td>supercont4.1</td>\n",
       "      <td>start_codon</td>\n",
       "      <td>2807108</td>\n",
       "      <td>2807111</td>\n",
       "      <td>+</td>\n",
       "      <td>2806108</td>\n",
       "      <td>2807111</td>\n",
       "      <td>ACAATTATTTGGTGATGATAATGGAGAATTTAATTTAAGTGAAATA...</td>\n",
       "      <td>candida_albicans_sc5314_gca_000784635</td>\n",
       "      <td>candida_albicans</td>\n",
       "      <td>[-0.089624725, 0.02925052, -0.014624437, -0.90...</td>\n",
       "      <td>[0.077558234, 0.3897506, -0.015687384, 0.03565...</td>\n",
       "    </tr>\n",
       "    <tr>\n",
       "      <th>3435475</th>\n",
       "      <td>W5Q_00536</td>\n",
       "      <td>KHC83323</td>\n",
       "      <td>supercont4.1</td>\n",
       "      <td>start_codon</td>\n",
       "      <td>1156335</td>\n",
       "      <td>1156338</td>\n",
       "      <td>+</td>\n",
       "      <td>1155335</td>\n",
       "      <td>1156338</td>\n",
       "      <td>AATGATTTAGTACCATTTTCGATACTCTTTTTCCCACTTTCAGTAG...</td>\n",
       "      <td>candida_albicans_sc5314_gca_000784635</td>\n",
       "      <td>candida_albicans</td>\n",
       "      <td>[-0.073895775, 0.055318058, -0.003053937, -0.7...</td>\n",
       "      <td>[0.02883135, -0.09521633, -0.027411956, 0.0001...</td>\n",
       "    </tr>\n",
       "    <tr>\n",
       "      <th>...</th>\n",
       "      <td>...</td>\n",
       "      <td>...</td>\n",
       "      <td>...</td>\n",
       "      <td>...</td>\n",
       "      <td>...</td>\n",
       "      <td>...</td>\n",
       "      <td>...</td>\n",
       "      <td>...</td>\n",
       "      <td>...</td>\n",
       "      <td>...</td>\n",
       "      <td>...</td>\n",
       "      <td>...</td>\n",
       "      <td>...</td>\n",
       "      <td>...</td>\n",
       "    </tr>\n",
       "    <tr>\n",
       "      <th>14677878</th>\n",
       "      <td>YALI0_F18040g</td>\n",
       "      <td>CAG78370</td>\n",
       "      <td>F</td>\n",
       "      <td>start_codon</td>\n",
       "      <td>2404344</td>\n",
       "      <td>2404347</td>\n",
       "      <td>-</td>\n",
       "      <td>2404344</td>\n",
       "      <td>2405347</td>\n",
       "      <td>TATTGTAGTGGGAGACCATACGAGAATCCTGGGTGCTGTAATCTTT...</td>\n",
       "      <td>yarrowia_lipolytica</td>\n",
       "      <td>yarrowia_lipolytica</td>\n",
       "      <td>[-0.3018363, -0.005869295, 0.022159437, -0.244...</td>\n",
       "      <td>[0.07424399, 0.12904361, -0.010953401, 0.04557...</td>\n",
       "    </tr>\n",
       "    <tr>\n",
       "      <th>14677881</th>\n",
       "      <td>YALI0_F10923g</td>\n",
       "      <td>CAG78073</td>\n",
       "      <td>F</td>\n",
       "      <td>start_codon</td>\n",
       "      <td>1458078</td>\n",
       "      <td>1458081</td>\n",
       "      <td>-</td>\n",
       "      <td>1458078</td>\n",
       "      <td>1459081</td>\n",
       "      <td>GCCTCTTTCTCGAGTCGATCCGTCCACTGCAACCTCCATGGTCCCT...</td>\n",
       "      <td>yarrowia_lipolytica</td>\n",
       "      <td>yarrowia_lipolytica</td>\n",
       "      <td>[-0.46078548, -0.08309572, 0.038748596, -0.662...</td>\n",
       "      <td>[0.0104980245, 0.2365075, -0.0038241881, 0.047...</td>\n",
       "    </tr>\n",
       "    <tr>\n",
       "      <th>14677882</th>\n",
       "      <td>YALI0_F06556g</td>\n",
       "      <td>CAG77892</td>\n",
       "      <td>F</td>\n",
       "      <td>start_codon</td>\n",
       "      <td>971905</td>\n",
       "      <td>971908</td>\n",
       "      <td>-</td>\n",
       "      <td>971905</td>\n",
       "      <td>972908</td>\n",
       "      <td>AATCAGACAATAGTACAAGTACAATGGAAGCTGGCCATTGTTGTCT...</td>\n",
       "      <td>yarrowia_lipolytica</td>\n",
       "      <td>yarrowia_lipolytica</td>\n",
       "      <td>[-0.37120572, -0.0012745588, 0.04519816, -0.07...</td>\n",
       "      <td>[0.10203641, 0.16689563, 0.0025999122, 0.00292...</td>\n",
       "    </tr>\n",
       "    <tr>\n",
       "      <th>14677883</th>\n",
       "      <td>YALI0_F26455g</td>\n",
       "      <td>CAG78720</td>\n",
       "      <td>F</td>\n",
       "      <td>start_codon</td>\n",
       "      <td>3387003</td>\n",
       "      <td>3387006</td>\n",
       "      <td>-</td>\n",
       "      <td>3387003</td>\n",
       "      <td>3388006</td>\n",
       "      <td>ATACGGATCCCGCAATCTCTGGTCATAGTAGGAATGTCGAACGTAC...</td>\n",
       "      <td>yarrowia_lipolytica</td>\n",
       "      <td>yarrowia_lipolytica</td>\n",
       "      <td>[-0.18022203, -0.038665965, 0.030178862, -0.29...</td>\n",
       "      <td>[0.050544992, 0.04968849, -0.0055678324, 0.034...</td>\n",
       "    </tr>\n",
       "    <tr>\n",
       "      <th>14677884</th>\n",
       "      <td>YALI0_F28061g</td>\n",
       "      <td>CAG78787</td>\n",
       "      <td>F</td>\n",
       "      <td>start_codon</td>\n",
       "      <td>3575467</td>\n",
       "      <td>3575470</td>\n",
       "      <td>-</td>\n",
       "      <td>3575467</td>\n",
       "      <td>3576470</td>\n",
       "      <td>ATCTTGTTGTTCTCCTCCAATAACGACATGGGCAGCTTGTTTTGTC...</td>\n",
       "      <td>yarrowia_lipolytica</td>\n",
       "      <td>yarrowia_lipolytica</td>\n",
       "      <td>[-0.22522137, -0.016432116, 0.038102612, -0.51...</td>\n",
       "      <td>[0.07778198, 0.111588046, 0.0021588213, 0.0858...</td>\n",
       "    </tr>\n",
       "  </tbody>\n",
       "</table>\n",
       "<p>50973 rows × 14 columns</p>\n",
       "</div>"
      ],
      "text/plain": [
       "                gene_id transcript_id    Chromosome      Feature    Start   \n",
       "3435471       W5Q_00575      KHC83359  supercont4.1  start_codon  1234961  \\\n",
       "3435472       W5Q_00675      KHC83458  supercont4.1  start_codon  1488618   \n",
       "3435473       W5Q_00708      KHC83490  supercont4.1  start_codon  1564846   \n",
       "3435474       W5Q_01237      KHC84013  supercont4.1  start_codon  2807108   \n",
       "3435475       W5Q_00536      KHC83323  supercont4.1  start_codon  1156335   \n",
       "...                 ...           ...           ...          ...      ...   \n",
       "14677878  YALI0_F18040g      CAG78370             F  start_codon  2404344   \n",
       "14677881  YALI0_F10923g      CAG78073             F  start_codon  1458078   \n",
       "14677882  YALI0_F06556g      CAG77892             F  start_codon   971905   \n",
       "14677883  YALI0_F26455g      CAG78720             F  start_codon  3387003   \n",
       "14677884  YALI0_F28061g      CAG78787             F  start_codon  3575467   \n",
       "\n",
       "              End Strand  five_prime_start  five_prime_end   \n",
       "3435471   1234964      +           1233961         1234964  \\\n",
       "3435472   1488621      +           1487618         1488621   \n",
       "3435473   1564849      +           1563846         1564849   \n",
       "3435474   2807111      +           2806108         2807111   \n",
       "3435475   1156338      +           1155335         1156338   \n",
       "...           ...    ...               ...             ...   \n",
       "14677878  2404347      -           2404344         2405347   \n",
       "14677881  1458081      -           1458078         1459081   \n",
       "14677882   971908      -            971905          972908   \n",
       "14677883  3387006      -           3387003         3388006   \n",
       "14677884  3575470      -           3575467         3576470   \n",
       "\n",
       "                                             five_prime_seq   \n",
       "3435471   CCTCGTTTGAAATGGTAGTTTTGAAATAGGGTTTGTATCCAACAGG...  \\\n",
       "3435472   ACCAGTATGTAAGGAGATGATGCTAACAGAGGATTCAGTTTTGGTG...   \n",
       "3435473   AATTTTGACATTCAATATACCAGGACTGACTATACAATTGATTTCA...   \n",
       "3435474   ACAATTATTTGGTGATGATAATGGAGAATTTAATTTAAGTGAAATA...   \n",
       "3435475   AATGATTTAGTACCATTTTCGATACTCTTTTTCCCACTTTCAGTAG...   \n",
       "...                                                     ...   \n",
       "14677878  TATTGTAGTGGGAGACCATACGAGAATCCTGGGTGCTGTAATCTTT...   \n",
       "14677881  GCCTCTTTCTCGAGTCGATCCGTCCACTGCAACCTCCATGGTCCCT...   \n",
       "14677882  AATCAGACAATAGTACAAGTACAATGGAAGCTGGCCATTGTTGTCT...   \n",
       "14677883  ATACGGATCCCGCAATCTCTGGTCATAGTAGGAATGTCGAACGTAC...   \n",
       "14677884  ATCTTGTTGTTCTCCTCCAATAACGACATGGGCAGCTTGTTTTGTC...   \n",
       "\n",
       "                                       organism              species   \n",
       "3435471   candida_albicans_sc5314_gca_000784635     candida_albicans  \\\n",
       "3435472   candida_albicans_sc5314_gca_000784635     candida_albicans   \n",
       "3435473   candida_albicans_sc5314_gca_000784635     candida_albicans   \n",
       "3435474   candida_albicans_sc5314_gca_000784635     candida_albicans   \n",
       "3435475   candida_albicans_sc5314_gca_000784635     candida_albicans   \n",
       "...                                         ...                  ...   \n",
       "14677878                    yarrowia_lipolytica  yarrowia_lipolytica   \n",
       "14677881                    yarrowia_lipolytica  yarrowia_lipolytica   \n",
       "14677882                    yarrowia_lipolytica  yarrowia_lipolytica   \n",
       "14677883                    yarrowia_lipolytica  yarrowia_lipolytica   \n",
       "14677884                    yarrowia_lipolytica  yarrowia_lipolytica   \n",
       "\n",
       "                                       five_prime_embedding   \n",
       "3435471   [0.068653494, 0.015206551, -0.021652974, -0.16...  \\\n",
       "3435472   [0.036147296, 0.025376495, -0.0061738696, -0.0...   \n",
       "3435473   [-0.15883088, -0.021592634, 0.030859975, -0.54...   \n",
       "3435474   [-0.089624725, 0.02925052, -0.014624437, -0.90...   \n",
       "3435475   [-0.073895775, 0.055318058, -0.003053937, -0.7...   \n",
       "...                                                     ...   \n",
       "14677878  [-0.3018363, -0.005869295, 0.022159437, -0.244...   \n",
       "14677881  [-0.46078548, -0.08309572, 0.038748596, -0.662...   \n",
       "14677882  [-0.37120572, -0.0012745588, 0.04519816, -0.07...   \n",
       "14677883  [-0.18022203, -0.038665965, 0.030178862, -0.29...   \n",
       "14677884  [-0.22522137, -0.016432116, 0.038102612, -0.51...   \n",
       "\n",
       "                               five_prime_embedding_species  \n",
       "3435471   [0.06493876, -0.100349575, 0.018514436, 0.0325...  \n",
       "3435472   [0.0545368, 0.119643144, -0.0065993257, 0.0437...  \n",
       "3435473   [0.01612491, 0.086933665, -0.031225346, 0.0250...  \n",
       "3435474   [0.077558234, 0.3897506, -0.015687384, 0.03565...  \n",
       "3435475   [0.02883135, -0.09521633, -0.027411956, 0.0001...  \n",
       "...                                                     ...  \n",
       "14677878  [0.07424399, 0.12904361, -0.010953401, 0.04557...  \n",
       "14677881  [0.0104980245, 0.2365075, -0.0038241881, 0.047...  \n",
       "14677882  [0.10203641, 0.16689563, 0.0025999122, 0.00292...  \n",
       "14677883  [0.050544992, 0.04968849, -0.0055678324, 0.034...  \n",
       "14677884  [0.07778198, 0.111588046, 0.0021588213, 0.0858...  \n",
       "\n",
       "[50973 rows x 14 columns]"
      ]
     },
     "execution_count": 16,
     "metadata": {},
     "output_type": "execute_result"
    }
   ],
   "source": [
    "five_sequences_all"
   ]
  },
  {
   "cell_type": "markdown",
   "id": "67d49e81-dacd-44d1-bed2-1481df613e12",
   "metadata": {},
   "source": [
    "## C. glabrata\n",
    "\n"
   ]
  },
  {
   "cell_type": "code",
   "execution_count": 17,
   "id": "763d9929-906c-4478-b62a-7ed8371714d6",
   "metadata": {
    "tags": []
   },
   "outputs": [],
   "source": [
    "microarray_test = microarray_all.reset_index().query('Study == \"Thompson_diauxicshift\"').query('Organism not in [\"Saccharomyces cerevisiae\", \"Schizosaccharomyces pombe\", \"Schizosaccharomyces japonicus\"]')\n",
    "microarray_test = (microarray_test\n",
    "              .merge(five_sequences_all,on=\"gene_id\")\n",
    "              .merge(three_sequences_all[[\"gene_id\",\"three_prime_seq\",\"three_prime_embedding\",\"three_prime_embedding_species\"]],on=\"gene_id\")\n",
    "              .dropna())\n",
    "microarray = microarray_test"
   ]
  },
  {
   "cell_type": "code",
   "execution_count": 19,
   "id": "660f361f-00e5-4e51-b59f-d3d8b18c5988",
   "metadata": {
    "tags": []
   },
   "outputs": [],
   "source": [
    "microarray = microarray.query(\"Organism == 'Candida glabrata'\")"
   ]
  },
  {
   "cell_type": "code",
   "execution_count": 20,
   "id": "ee2ce997-bf93-43a8-9e07-b8e1e7336f46",
   "metadata": {
    "tags": []
   },
   "outputs": [
    {
     "name": "stdout",
     "output_type": "stream",
     "text": [
      "Candida glabrata\n",
      "PS\n",
      "BERT-ADN-threeprime\n",
      "BERT-ADN-threeprime-species\n",
      "BERT-ADN-fiveprime\n",
      "BERT-ADN-fiveprime-species\n",
      "BERT-ADN-combined\n",
      "BERT-ADN-combined-species\n",
      "3-mer-fiveprime\n",
      "4-mer-fiveprime\n",
      "5-mer-fiveprime\n",
      "3-mer-threeprime\n",
      "4-mer-threeprime\n",
      "5-mer-threeprime\n",
      "3-mer-combined\n",
      "4-mer-combined\n",
      "5-mer-combined\n",
      "PLAT\n",
      "BERT-ADN-threeprime\n",
      "BERT-ADN-threeprime-species\n",
      "BERT-ADN-fiveprime\n",
      "BERT-ADN-fiveprime-species\n",
      "BERT-ADN-combined\n",
      "BERT-ADN-combined-species\n",
      "3-mer-fiveprime\n",
      "4-mer-fiveprime\n",
      "5-mer-fiveprime\n",
      "3-mer-threeprime\n",
      "4-mer-threeprime\n",
      "5-mer-threeprime\n",
      "3-mer-combined\n",
      "4-mer-combined\n",
      "5-mer-combined\n",
      "LAG\n",
      "BERT-ADN-threeprime\n",
      "BERT-ADN-threeprime-species\n",
      "BERT-ADN-fiveprime\n",
      "BERT-ADN-fiveprime-species\n",
      "BERT-ADN-combined\n",
      "BERT-ADN-combined-species\n",
      "3-mer-fiveprime\n",
      "4-mer-fiveprime\n",
      "5-mer-fiveprime\n",
      "3-mer-threeprime\n",
      "4-mer-threeprime\n",
      "5-mer-threeprime\n",
      "3-mer-combined\n",
      "4-mer-combined\n",
      "5-mer-combined\n",
      "ll\n",
      "BERT-ADN-threeprime\n",
      "BERT-ADN-threeprime-species\n",
      "BERT-ADN-fiveprime\n",
      "BERT-ADN-fiveprime-species\n",
      "BERT-ADN-combined\n",
      "BERT-ADN-combined-species\n",
      "3-mer-fiveprime\n",
      "4-mer-fiveprime\n",
      "5-mer-fiveprime\n",
      "3-mer-threeprime\n",
      "4-mer-threeprime\n",
      "5-mer-threeprime\n",
      "3-mer-combined\n",
      "4-mer-combined\n",
      "5-mer-combined\n",
      "DS\n",
      "BERT-ADN-threeprime\n",
      "BERT-ADN-threeprime-species\n",
      "BERT-ADN-fiveprime\n",
      "BERT-ADN-fiveprime-species\n",
      "BERT-ADN-combined\n",
      "BERT-ADN-combined-species\n",
      "3-mer-fiveprime\n",
      "4-mer-fiveprime\n",
      "5-mer-fiveprime\n",
      "3-mer-threeprime\n",
      "4-mer-threeprime\n",
      "5-mer-threeprime\n",
      "3-mer-combined\n",
      "4-mer-combined\n",
      "5-mer-combined\n"
     ]
    }
   ],
   "source": [
    "rows = []\n",
    "df_list = []\n",
    "test_predictions = []\n",
    "np.random.seed(42)\n",
    "import copy \n",
    "\n",
    "pipe_index_dict = dict()\n",
    "\n",
    "for organism in set(microarray[\"Organism\"]):\n",
    "    print (organism)\n",
    "    for condition in set(microarray[\"Condition\"]):\n",
    "        print(condition)\n",
    "        micro_df = microarray.query('Condition == @condition and Organism == @organism').reset_index(drop=True)\n",
    "        if len(micro_df) == 0:\n",
    "            continue\n",
    "        y_obs = np.array(micro_df[\"Expression\"])\n",
    "        # compute features\n",
    "        X_bert_five = np.stack(micro_df[\"five_prime_embedding\"],axis=0)\n",
    "        X_bert_five_species = np.stack(micro_df[\"five_prime_embedding_species\"],axis=0)\n",
    "        X_bert_three = np.stack(micro_df[\"three_prime_embedding\"],axis=0)\n",
    "        X_bert_three_species = np.stack(micro_df[\"three_prime_embedding_species\"],axis=0)\n",
    "        X_bert_combined = np.concatenate([X_bert_five,X_bert_three],axis=1)\n",
    "        X_bert_combined_species = np.concatenate([X_bert_five_species,X_bert_three_species],axis=1)\n",
    "\n",
    "        X_3mer_five = np.stack(micro_df['five_prime_seq'].apply(lambda x: kmerizer3.kmerize(x)))\n",
    "        X_4mer_five = np.stack(micro_df['five_prime_seq'].apply(lambda x: kmerizer4.kmerize(x)))\n",
    "        X_5mer_five = np.stack(micro_df['five_prime_seq'].apply(lambda x: kmerizer5.kmerize(x)))\n",
    "        #X_6mer_five = np.stack(micro_df['five_prime_seq'].apply(lambda x: kmerizer6.kmerize(x)))\n",
    "        X_3mer_three = np.stack(micro_df['three_prime_seq'].apply(lambda x: kmerizer3.kmerize(x)))\n",
    "        X_4mer_three = np.stack(micro_df['three_prime_seq'].apply(lambda x: kmerizer4.kmerize(x)))\n",
    "        X_5mer_three = np.stack(micro_df['three_prime_seq'].apply(lambda x: kmerizer5.kmerize(x)))\n",
    "        #X_6mer_three = np.stack(micro_df['three_prime_seq'].apply(lambda x: kmerizer6.kmerize(x)))\n",
    "        X_3mer_combined = np.concatenate([X_3mer_five, X_3mer_three],axis=1)\n",
    "        X_4mer_combined = np.concatenate([X_4mer_five, X_4mer_three],axis=1)\n",
    "        X_5mer_combined = np.concatenate([X_5mer_five, X_5mer_three],axis=1)\n",
    "        #X_6mer_combined = np.concatenate([X_6mer_five, X_6mer_three],axis=1)\n",
    "\n",
    "        data_matrices = {\"BERT-ADN-threeprime\":X_bert_three,\n",
    "                        \"BERT-ADN-threeprime-species\":X_bert_three_species,\n",
    "                        \"BERT-ADN-fiveprime\":X_bert_five,\n",
    "                        \"BERT-ADN-fiveprime-species\":X_bert_five_species,\n",
    "                        \"BERT-ADN-combined\":X_bert_combined,\n",
    "                        \"BERT-ADN-combined-species\":X_bert_combined_species,\n",
    "                         \"3-mer-fiveprime\":X_3mer_five, \n",
    "                         \"4-mer-fiveprime\":X_4mer_five,\n",
    "                         \"5-mer-fiveprime\":X_5mer_five, \n",
    "                         \"3-mer-threeprime\":X_3mer_three,\n",
    "                         \"4-mer-threeprime\":X_4mer_three,\n",
    "                         \"5-mer-threeprime\":X_5mer_three,\n",
    "                         \"3-mer-combined\":X_3mer_combined,\n",
    "                         \"4-mer-combined\":X_4mer_combined,\n",
    "                         \"5-mer-combined\":X_5mer_combined,\n",
    "        }\n",
    "\n",
    "        kfold = sklearn.model_selection.KFold(n_splits=10, shuffle=True, random_state=42)\n",
    "\n",
    "        for key in data_matrices:\n",
    "            print(key)\n",
    "            y = y_obs\n",
    "            X = data_matrices[key]\n",
    "\n",
    "            y_pred_list = []\n",
    "            y_true_list = []\n",
    "            for i, (train_index, test_index) in enumerate(kfold.split(X, y)):\n",
    "                pipe = pipeline.make_pipeline(sklearn.preprocessing.StandardScaler(), sklearn.linear_model.RidgeCV(cv=3, alphas=[10, 100, 1000]))\n",
    "                X_train = X[train_index]\n",
    "                y_train = y[train_index]\n",
    "                X_test = X[test_index]\n",
    "                y_test = y[test_index]\n",
    "                pipe.fit(X_train,y_train)\n",
    "                y_pred = pipe.predict(X_test)\n",
    "                r2_test = pearson_r2_metric(y_test, y_pred)\n",
    "                y_pred_list.append(y_pred)\n",
    "                y_true_list.append(y_test)\n",
    "                rows.append({\"model\":key,\n",
    "                             \"species\":organism,\n",
    "                             \"condition\":condition,\n",
    "                             \"r2\":r2_test})\n",
    "            test_predictions.append(pd.DataFrame({\"model\":key,\n",
    "                                                  \"species\":organism,\n",
    "                                                  \"condition\":condition,\n",
    "                                     \"pred\": np.concatenate(y_pred_list), \n",
    "                                     \"true\": np.concatenate(y_true_list)}))\n",
    "metrics_micro_other = pd.DataFrame(rows)\n",
    "pred_micro_other = pd.concat(test_predictions)\n",
    "pred_micro_other[\"residual\"] = (pred_micro_other[\"true\"] - pred_micro_other[\"pred\"])**2"
   ]
  },
  {
   "cell_type": "code",
   "execution_count": 21,
   "id": "620d6e2a-0d71-4a3b-86cd-4863274b7f11",
   "metadata": {
    "tags": []
   },
   "outputs": [
    {
     "data": {
      "text/plain": [
       "WilcoxonResult(statistic=150382582.0, pvalue=2.3461313127918796e-26)"
      ]
     },
     "execution_count": 21,
     "metadata": {},
     "output_type": "execute_result"
    }
   ],
   "source": [
    "pred_micro_other\n",
    "scipy.stats.wilcoxon(pred_micro_other.query(\"species == 'Candida glabrata'\").query('model == \"BERT-ADN-combined-species\"')[\"residual\"], pred_micro_other.query(\"species == 'Candida glabrata'\").query('model == \"BERT-ADN-combined\"')[\"residual\"])\n"
   ]
  },
  {
   "cell_type": "code",
   "execution_count": 22,
   "id": "cc933c0b-0588-4549-864e-fbca5d7154c0",
   "metadata": {
    "tags": []
   },
   "outputs": [
    {
     "name": "stdout",
     "output_type": "stream",
     "text": [
      "Candida glabrata WilcoxonResult(statistic=150382582.0, pvalue=2.3461313127918796e-26)\n"
     ]
    }
   ],
   "source": [
    "for species in pred_micro_other.species.unique():\n",
    "    sub_micro = pred_micro_other.loc[pred_micro_other.species == species]\n",
    "    print (species, scipy.stats.wilcoxon(sub_micro.query('model == \"BERT-ADN-combined-species\"')[\"residual\"], sub_micro.query('model == \"BERT-ADN-combined\"')[\"residual\"]))\n",
    "    #print (species, scipy.stats.wilcoxon(sub_micro.query('model == \"BERT-ADN-threeprime-species\"')[\"residual\"], sub_micro.query('model == \"BERT-ADN-threeprime\"')[\"residual\"]))\n",
    "    #print (species, scipy.stats.wilcoxon(sub_micro.query('model == \"BERT-ADN-fiveprime-species\"')[\"residual\"], sub_micro.query('model == \"BERT-ADN-fiveprime\"')[\"residual\"]))\n"
   ]
  },
  {
   "cell_type": "code",
   "execution_count": 24,
   "id": "bf0a1215-a42f-4d50-b636-51097bcd6a39",
   "metadata": {
    "tags": []
   },
   "outputs": [
    {
     "data": {
      "text/html": [
       "<div>\n",
       "<style scoped>\n",
       "    .dataframe tbody tr th:only-of-type {\n",
       "        vertical-align: middle;\n",
       "    }\n",
       "\n",
       "    .dataframe tbody tr th {\n",
       "        vertical-align: top;\n",
       "    }\n",
       "\n",
       "    .dataframe thead th {\n",
       "        text-align: right;\n",
       "    }\n",
       "</style>\n",
       "<table border=\"1\" class=\"dataframe\">\n",
       "  <thead>\n",
       "    <tr style=\"text-align: right;\">\n",
       "      <th></th>\n",
       "      <th>r2</th>\n",
       "    </tr>\n",
       "    <tr>\n",
       "      <th>species</th>\n",
       "      <th></th>\n",
       "    </tr>\n",
       "  </thead>\n",
       "  <tbody>\n",
       "    <tr>\n",
       "      <th>Candida glabrata</th>\n",
       "      <td>0.456447</td>\n",
       "    </tr>\n",
       "  </tbody>\n",
       "</table>\n",
       "</div>"
      ],
      "text/plain": [
       "                        r2\n",
       "species                   \n",
       "Candida glabrata  0.456447"
      ]
     },
     "execution_count": 24,
     "metadata": {},
     "output_type": "execute_result"
    }
   ],
   "source": [
    "metrics_micro_other.query(\"model == 'BERT-ADN-combined-species'\").groupby([\"species\"])[[\"r2\"]].median().tail(60).sort_values('r2')"
   ]
  },
  {
   "cell_type": "code",
   "execution_count": 26,
   "id": "02646053-00fd-4369-a24d-8b77de1446b0",
   "metadata": {
    "tags": []
   },
   "outputs": [
    {
     "data": {
      "text/html": [
       "<div>\n",
       "<style scoped>\n",
       "    .dataframe tbody tr th:only-of-type {\n",
       "        vertical-align: middle;\n",
       "    }\n",
       "\n",
       "    .dataframe tbody tr th {\n",
       "        vertical-align: top;\n",
       "    }\n",
       "\n",
       "    .dataframe thead th {\n",
       "        text-align: right;\n",
       "    }\n",
       "</style>\n",
       "<table border=\"1\" class=\"dataframe\">\n",
       "  <thead>\n",
       "    <tr style=\"text-align: right;\">\n",
       "      <th></th>\n",
       "      <th></th>\n",
       "      <th>r2</th>\n",
       "    </tr>\n",
       "    <tr>\n",
       "      <th>model</th>\n",
       "      <th>species</th>\n",
       "      <th></th>\n",
       "    </tr>\n",
       "  </thead>\n",
       "  <tbody>\n",
       "    <tr>\n",
       "      <th>5-mer-threeprime</th>\n",
       "      <th>Candida glabrata</th>\n",
       "      <td>0.021593</td>\n",
       "    </tr>\n",
       "    <tr>\n",
       "      <th>3-mer-threeprime</th>\n",
       "      <th>Candida glabrata</th>\n",
       "      <td>0.024481</td>\n",
       "    </tr>\n",
       "    <tr>\n",
       "      <th>4-mer-threeprime</th>\n",
       "      <th>Candida glabrata</th>\n",
       "      <td>0.025314</td>\n",
       "    </tr>\n",
       "    <tr>\n",
       "      <th>BERT-ADN-threeprime</th>\n",
       "      <th>Candida glabrata</th>\n",
       "      <td>0.063825</td>\n",
       "    </tr>\n",
       "    <tr>\n",
       "      <th>BERT-ADN-threeprime-species</th>\n",
       "      <th>Candida glabrata</th>\n",
       "      <td>0.066696</td>\n",
       "    </tr>\n",
       "    <tr>\n",
       "      <th>3-mer-fiveprime</th>\n",
       "      <th>Candida glabrata</th>\n",
       "      <td>0.107703</td>\n",
       "    </tr>\n",
       "    <tr>\n",
       "      <th>3-mer-combined</th>\n",
       "      <th>Candida glabrata</th>\n",
       "      <td>0.123278</td>\n",
       "    </tr>\n",
       "    <tr>\n",
       "      <th>4-mer-fiveprime</th>\n",
       "      <th>Candida glabrata</th>\n",
       "      <td>0.154971</td>\n",
       "    </tr>\n",
       "    <tr>\n",
       "      <th>4-mer-combined</th>\n",
       "      <th>Candida glabrata</th>\n",
       "      <td>0.162162</td>\n",
       "    </tr>\n",
       "    <tr>\n",
       "      <th>5-mer-combined</th>\n",
       "      <th>Candida glabrata</th>\n",
       "      <td>0.181400</td>\n",
       "    </tr>\n",
       "    <tr>\n",
       "      <th>5-mer-fiveprime</th>\n",
       "      <th>Candida glabrata</th>\n",
       "      <td>0.200339</td>\n",
       "    </tr>\n",
       "    <tr>\n",
       "      <th>BERT-ADN-combined</th>\n",
       "      <th>Candida glabrata</th>\n",
       "      <td>0.425320</td>\n",
       "    </tr>\n",
       "    <tr>\n",
       "      <th>BERT-ADN-fiveprime</th>\n",
       "      <th>Candida glabrata</th>\n",
       "      <td>0.439048</td>\n",
       "    </tr>\n",
       "    <tr>\n",
       "      <th>BERT-ADN-combined-species</th>\n",
       "      <th>Candida glabrata</th>\n",
       "      <td>0.456447</td>\n",
       "    </tr>\n",
       "    <tr>\n",
       "      <th>BERT-ADN-fiveprime-species</th>\n",
       "      <th>Candida glabrata</th>\n",
       "      <td>0.462985</td>\n",
       "    </tr>\n",
       "  </tbody>\n",
       "</table>\n",
       "</div>"
      ],
      "text/plain": [
       "                                                    r2\n",
       "model                       species                   \n",
       "5-mer-threeprime            Candida glabrata  0.021593\n",
       "3-mer-threeprime            Candida glabrata  0.024481\n",
       "4-mer-threeprime            Candida glabrata  0.025314\n",
       "BERT-ADN-threeprime         Candida glabrata  0.063825\n",
       "BERT-ADN-threeprime-species Candida glabrata  0.066696\n",
       "3-mer-fiveprime             Candida glabrata  0.107703\n",
       "3-mer-combined              Candida glabrata  0.123278\n",
       "4-mer-fiveprime             Candida glabrata  0.154971\n",
       "4-mer-combined              Candida glabrata  0.162162\n",
       "5-mer-combined              Candida glabrata  0.181400\n",
       "5-mer-fiveprime             Candida glabrata  0.200339\n",
       "BERT-ADN-combined           Candida glabrata  0.425320\n",
       "BERT-ADN-fiveprime          Candida glabrata  0.439048\n",
       "BERT-ADN-combined-species   Candida glabrata  0.456447\n",
       "BERT-ADN-fiveprime-species  Candida glabrata  0.462985"
      ]
     },
     "execution_count": 26,
     "metadata": {},
     "output_type": "execute_result"
    }
   ],
   "source": [
    "metrics_micro_other.groupby(['model','species',])[[\"r2\"]].median().query(\"species == 'Candida glabrata'\").sort_values(\"r2\")"
   ]
  },
  {
   "cell_type": "code",
   "execution_count": null,
   "id": "f197778c-7dc4-4da1-8a77-6acfc415e600",
   "metadata": {},
   "outputs": [],
   "source": []
  }
 ],
 "metadata": {
  "kernelspec": {
   "display_name": "Python [conda env:anaconda-m2-plot]",
   "language": "python",
   "name": "conda-env-anaconda-m2-plot-py"
  },
  "language_info": {
   "codemirror_mode": {
    "name": "ipython",
    "version": 3
   },
   "file_extension": ".py",
   "mimetype": "text/x-python",
   "name": "python",
   "nbconvert_exporter": "python",
   "pygments_lexer": "ipython3",
   "version": "3.10.14"
  }
 },
 "nbformat": 4,
 "nbformat_minor": 5
}
